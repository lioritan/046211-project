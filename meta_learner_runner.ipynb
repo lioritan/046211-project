{
  "cells": [
    {
      "cell_type": "code",
      "execution_count": 1,
      "metadata": {
        "colab": {
          "base_uri": "https://localhost:8080/"
        },
        "id": "Ow2hzn_XvlnY",
        "outputId": "d6808253-b16d-4277-bf36-c5502781810c"
      },
      "outputs": [
        {
          "output_type": "stream",
          "name": "stdout",
          "text": [
            "already in /content\n",
            "Cloning into '046211-project'...\n",
            "remote: Enumerating objects: 139, done.\u001b[K\n",
            "remote: Counting objects: 100% (135/135), done.\u001b[K\n",
            "remote: Compressing objects: 100% (94/94), done.\u001b[K\n",
            "remote: Total 139 (delta 78), reused 83 (delta 37), pack-reused 4\u001b[K\n",
            "Receiving objects: 100% (139/139), 577.26 KiB | 17.49 MiB/s, done.\n",
            "Resolving deltas: 100% (78/78), done.\n",
            "/content/046211-project\n",
            "Collecting learn2learn\n",
            "  Downloading learn2learn-0.1.6.tar.gz (604 kB)\n",
            "\u001b[K     |████████████████████████████████| 604 kB 12.2 MB/s \n",
            "\u001b[?25hRequirement already satisfied: numpy>=1.15.4 in /usr/local/lib/python3.7/dist-packages (from learn2learn) (1.19.5)\n",
            "Requirement already satisfied: gym>=0.14.0 in /usr/local/lib/python3.7/dist-packages (from learn2learn) (0.17.3)\n",
            "Requirement already satisfied: torch>=1.1.0 in /usr/local/lib/python3.7/dist-packages (from learn2learn) (1.10.0+cu111)\n",
            "Requirement already satisfied: torchvision>=0.3.0 in /usr/local/lib/python3.7/dist-packages (from learn2learn) (0.11.1+cu111)\n",
            "Requirement already satisfied: scipy in /usr/local/lib/python3.7/dist-packages (from learn2learn) (1.4.1)\n",
            "Requirement already satisfied: requests in /usr/local/lib/python3.7/dist-packages (from learn2learn) (2.23.0)\n",
            "Collecting gsutil\n",
            "  Downloading gsutil-5.6.tar.gz (2.9 MB)\n",
            "\u001b[K     |████████████████████████████████| 2.9 MB 40.4 MB/s \n",
            "\u001b[?25hRequirement already satisfied: tqdm in /usr/local/lib/python3.7/dist-packages (from learn2learn) (4.62.3)\n",
            "Collecting qpth>=0.0.15\n",
            "  Downloading qpth-0.0.15.tar.gz (11 kB)\n",
            "Requirement already satisfied: cloudpickle<1.7.0,>=1.2.0 in /usr/local/lib/python3.7/dist-packages (from gym>=0.14.0->learn2learn) (1.3.0)\n",
            "Requirement already satisfied: pyglet<=1.5.0,>=1.4.0 in /usr/local/lib/python3.7/dist-packages (from gym>=0.14.0->learn2learn) (1.5.0)\n",
            "Requirement already satisfied: future in /usr/local/lib/python3.7/dist-packages (from pyglet<=1.5.0,>=1.4.0->gym>=0.14.0->learn2learn) (0.16.0)\n",
            "Requirement already satisfied: typing-extensions in /usr/local/lib/python3.7/dist-packages (from torch>=1.1.0->learn2learn) (3.10.0.2)\n",
            "Requirement already satisfied: pillow!=8.3.0,>=5.3.0 in /usr/local/lib/python3.7/dist-packages (from torchvision>=0.3.0->learn2learn) (7.1.2)\n",
            "Requirement already satisfied: argcomplete>=1.9.4 in /usr/local/lib/python3.7/dist-packages (from gsutil->learn2learn) (2.0.0)\n",
            "Requirement already satisfied: crcmod>=1.7 in /usr/local/lib/python3.7/dist-packages (from gsutil->learn2learn) (1.7)\n",
            "Collecting fasteners>=0.14.1\n",
            "  Downloading fasteners-0.17.2-py3-none-any.whl (18 kB)\n",
            "Collecting gcs-oauth2-boto-plugin>=3.0\n",
            "  Downloading gcs-oauth2-boto-plugin-3.0.tar.gz (20 kB)\n",
            "Collecting google-apitools>=0.5.32\n",
            "  Downloading google_apitools-0.5.32-py3-none-any.whl (135 kB)\n",
            "\u001b[K     |████████████████████████████████| 135 kB 42.4 MB/s \n",
            "\u001b[?25hCollecting httplib2>=0.18\n",
            "  Downloading httplib2-0.20.2-py3-none-any.whl (96 kB)\n",
            "\u001b[K     |████████████████████████████████| 96 kB 5.9 MB/s \n",
            "\u001b[?25hCollecting google-reauth>=0.1.0\n",
            "  Downloading google_reauth-0.1.1-py2.py3-none-any.whl (17 kB)\n",
            "Collecting monotonic>=1.4\n",
            "  Downloading monotonic-1.6-py2.py3-none-any.whl (8.2 kB)\n",
            "Collecting pyOpenSSL>=0.13\n",
            "  Downloading pyOpenSSL-21.0.0-py2.py3-none-any.whl (55 kB)\n",
            "\u001b[K     |████████████████████████████████| 55 kB 3.2 MB/s \n",
            "\u001b[?25hCollecting retry_decorator>=1.0.0\n",
            "  Downloading retry_decorator-1.1.1.tar.gz (3.9 kB)\n",
            "Requirement already satisfied: six>=1.12.0 in /usr/local/lib/python3.7/dist-packages (from gsutil->learn2learn) (1.15.0)\n",
            "Requirement already satisfied: importlib-metadata<5,>=0.23 in /usr/local/lib/python3.7/dist-packages (from argcomplete>=1.9.4->gsutil->learn2learn) (4.10.0)\n",
            "Collecting rsa==4.7.2\n",
            "  Downloading rsa-4.7.2-py3-none-any.whl (34 kB)\n",
            "Collecting boto>=2.29.1\n",
            "  Downloading boto-2.49.0-py2.py3-none-any.whl (1.4 MB)\n",
            "\u001b[K     |████████████████████████████████| 1.4 MB 39.9 MB/s \n",
            "\u001b[?25hRequirement already satisfied: oauth2client>=2.2.0 in /usr/local/lib/python3.7/dist-packages (from gcs-oauth2-boto-plugin>=3.0->gsutil->learn2learn) (4.1.3)\n",
            "Requirement already satisfied: pyasn1>=0.1.3 in /usr/local/lib/python3.7/dist-packages (from rsa==4.7.2->gcs-oauth2-boto-plugin>=3.0->gsutil->learn2learn) (0.4.8)\n",
            "Collecting pyu2f\n",
            "  Downloading pyu2f-0.1.5.tar.gz (27 kB)\n",
            "Requirement already satisfied: pyparsing!=3.0.0,!=3.0.1,!=3.0.2,!=3.0.3,<4,>=2.4.2 in /usr/local/lib/python3.7/dist-packages (from httplib2>=0.18->gsutil->learn2learn) (3.0.6)\n",
            "Requirement already satisfied: zipp>=0.5 in /usr/local/lib/python3.7/dist-packages (from importlib-metadata<5,>=0.23->argcomplete>=1.9.4->gsutil->learn2learn) (3.7.0)\n",
            "Requirement already satisfied: pyasn1-modules>=0.0.5 in /usr/local/lib/python3.7/dist-packages (from oauth2client>=2.2.0->gcs-oauth2-boto-plugin>=3.0->gsutil->learn2learn) (0.2.8)\n",
            "Collecting cryptography>=3.3\n",
            "  Downloading cryptography-36.0.1-cp36-abi3-manylinux_2_24_x86_64.whl (3.6 MB)\n",
            "\u001b[K     |████████████████████████████████| 3.6 MB 42.9 MB/s \n",
            "\u001b[?25hRequirement already satisfied: cffi>=1.12 in /usr/local/lib/python3.7/dist-packages (from cryptography>=3.3->pyOpenSSL>=0.13->gsutil->learn2learn) (1.15.0)\n",
            "Requirement already satisfied: pycparser in /usr/local/lib/python3.7/dist-packages (from cffi>=1.12->cryptography>=3.3->pyOpenSSL>=0.13->gsutil->learn2learn) (2.21)\n",
            "Requirement already satisfied: chardet<4,>=3.0.2 in /usr/local/lib/python3.7/dist-packages (from requests->learn2learn) (3.0.4)\n",
            "Requirement already satisfied: certifi>=2017.4.17 in /usr/local/lib/python3.7/dist-packages (from requests->learn2learn) (2021.10.8)\n",
            "Requirement already satisfied: urllib3!=1.25.0,!=1.25.1,<1.26,>=1.21.1 in /usr/local/lib/python3.7/dist-packages (from requests->learn2learn) (1.24.3)\n",
            "Requirement already satisfied: idna<3,>=2.5 in /usr/local/lib/python3.7/dist-packages (from requests->learn2learn) (2.10)\n",
            "Building wheels for collected packages: learn2learn, qpth, gsutil, gcs-oauth2-boto-plugin, retry-decorator, pyu2f\n",
            "  Building wheel for learn2learn (setup.py) ... \u001b[?25l\u001b[?25hdone\n",
            "  Created wheel for learn2learn: filename=learn2learn-0.1.6-cp37-cp37m-linux_x86_64.whl size=945720 sha256=faf219bbf8ed889a7f673f50457e289f2c138e7add794f27e6c98e59c87cb1f7\n",
            "  Stored in directory: /root/.cache/pip/wheels/4f/d0/99/d65b01d3a6bda35325b9b2e964c7c17169951c915484029b74\n",
            "  Building wheel for qpth (setup.py) ... \u001b[?25l\u001b[?25hdone\n",
            "  Created wheel for qpth: filename=qpth-0.0.15-py3-none-any.whl size=15379 sha256=8e0d7e758a3fc98e6491cc308d8ed6ea99992f1a58cbc3c773d8ab2f615af38e\n",
            "  Stored in directory: /root/.cache/pip/wheels/f6/bb/0f/3af358159c8cfc56654d85ba5069b53ab351dee72f5a57c2ff\n",
            "  Building wheel for gsutil (setup.py) ... \u001b[?25l\u001b[?25hdone\n",
            "  Created wheel for gsutil: filename=gsutil-5.6-py3-none-any.whl size=3718400 sha256=9cc8b93a27457b31d1be0db7445eebd3b98171d1323b39d2f9348cd56da60baa\n",
            "  Stored in directory: /root/.cache/pip/wheels/0d/33/8c/a05f7d19c7b571e21cb6cef94712772c3da0d5ab9c9755b61f\n",
            "  Building wheel for gcs-oauth2-boto-plugin (setup.py) ... \u001b[?25l\u001b[?25hdone\n",
            "  Created wheel for gcs-oauth2-boto-plugin: filename=gcs_oauth2_boto_plugin-3.0-py3-none-any.whl size=23221 sha256=1bad4952486cf87b1b28007a51c2140214ae9421980171c580c070e245977faf\n",
            "  Stored in directory: /root/.cache/pip/wheels/2a/93/86/cb2140365b10150dbdba338da385c7c18c7cbd9e592e3421db\n",
            "  Building wheel for retry-decorator (setup.py) ... \u001b[?25l\u001b[?25hdone\n",
            "  Created wheel for retry-decorator: filename=retry_decorator-1.1.1-py2.py3-none-any.whl size=3658 sha256=0fd236ec4fc0e4df42ed3b33738a7c9900fbe12e71ef1ac0f78f1d4b9b27ae14\n",
            "  Stored in directory: /root/.cache/pip/wheels/91/39/dc/7359c639e34d9c388a1b3e1dc444363905194afc70f57eb9a5\n",
            "  Building wheel for pyu2f (setup.py) ... \u001b[?25l\u001b[?25hdone\n",
            "  Created wheel for pyu2f: filename=pyu2f-0.1.5-py3-none-any.whl size=39404 sha256=812ece48efb59cee1da7c594819fc1f34ee5ff76be2294beca75a81d96b3d575\n",
            "  Stored in directory: /root/.cache/pip/wheels/b3/84/c6/ee8093bf96e2224aca3a9bfa074aa3c86c39208f91055fd60f\n",
            "Successfully built learn2learn qpth gsutil gcs-oauth2-boto-plugin retry-decorator pyu2f\n",
            "Installing collected packages: rsa, pyu2f, httplib2, cryptography, retry-decorator, pyOpenSSL, google-reauth, fasteners, boto, monotonic, google-apitools, gcs-oauth2-boto-plugin, qpth, gsutil, learn2learn\n",
            "  Attempting uninstall: rsa\n",
            "    Found existing installation: rsa 4.8\n",
            "    Uninstalling rsa-4.8:\n",
            "      Successfully uninstalled rsa-4.8\n",
            "  Attempting uninstall: httplib2\n",
            "    Found existing installation: httplib2 0.17.4\n",
            "    Uninstalling httplib2-0.17.4:\n",
            "      Successfully uninstalled httplib2-0.17.4\n",
            "Successfully installed boto-2.49.0 cryptography-36.0.1 fasteners-0.17.2 gcs-oauth2-boto-plugin-3.0 google-apitools-0.5.32 google-reauth-0.1.1 gsutil-5.6 httplib2-0.20.2 learn2learn-0.1.6 monotonic-1.6 pyOpenSSL-21.0.0 pyu2f-0.1.5 qpth-0.0.15 retry-decorator-1.1.1 rsa-4.7.2\n"
          ]
        }
      ],
      "source": [
        "try:\n",
        "    import google.colab\n",
        "    in_colab = True\n",
        "except:\n",
        "    in_colab = False\n",
        "\n",
        "if in_colab:\n",
        "    cur_dir = !pwd\n",
        "    if cur_dir[0] != \"/content\":\n",
        "        print(\"getting back to content dir\")\n",
        "        %cd /content/\n",
        "    else:\n",
        "        print(\"already in /content\")  \n",
        "    !rm -rf 046211-project\n",
        "    !git clone https://github.com/ynahum/046211-project.git\n",
        "    %cd 046211-project\n",
        "    !pip install learn2learn"
      ]
    },
    {
      "cell_type": "code",
      "execution_count": 2,
      "metadata": {
        "id": "BZrhZG-3lebR"
      },
      "outputs": [],
      "source": [
        "from meta_learner_module import MetaLearner\n",
        "from scheduler.batch_loss_schedule import BatchLossSchedule\n",
        "from scheduler.prediction_similarity_schedule import PredictionSimilaritySchedule\n",
        "from scheduler.random_schedule import RandomSchedule\n",
        "from config import defaults\n",
        "import utils\n",
        "\n",
        "import learn2learn as l2l\n",
        "import torch\n",
        "import torch.nn as nn\n",
        "import numpy as np\n",
        "import matplotlib.pyplot as plt\n",
        "import copy \n",
        "\n",
        "%matplotlib inline\n",
        "\n",
        "device = torch.device('cuda:0' if torch.cuda.is_available() else 'cpu')\n",
        "\n",
        "utils.fix_seed(42)"
      ]
    },
    {
      "cell_type": "code",
      "execution_count": 3,
      "metadata": {
        "colab": {
          "base_uri": "https://localhost:8080/"
        },
        "id": "89Um-t-mmRwK",
        "outputId": "569b3364-84b4-4b5e-ef84-b8167861172a"
      },
      "outputs": [
        {
          "output_type": "stream",
          "name": "stdout",
          "text": [
            "{'dataset': 'omniglot', 'train_sample_size': 15, 'n_test_labels': 5, 'n_shots': 1, 'per_task_lr': 0.1, 'meta_lr': 0.003, 'meta_batch_size': 8, 'train_adapt_steps': 5, 'test_adapt_steps': 10, 'n_epochs': 100}\n"
          ]
        }
      ],
      "source": [
        "\n",
        "args = copy.deepcopy(defaults)\n",
        "\n",
        "#play with arguments and override defaults here\n",
        "args['dataset'] = \"omniglot\"\n",
        "if args['dataset'] == \"omniglot\":\n",
        "    args['train_sample_size'] = 15\n",
        "    args['n_shots'] = 1\n",
        "    args['train_adapt_steps'] = 5\n",
        "    args['test_adapt_steps'] = 10\n",
        "    args['per_task_lr'] = 0.1\n",
        "    args['meta_lr'] = 0.003\n",
        "    args['meta_batch_size'] = 8\n",
        "    args['n_epochs'] = 100\n",
        "    \n",
        "print(args)\n",
        "\n",
        "dataset = args['dataset']\n",
        "train_sample_size = args['train_sample_size']\n",
        "n_test_labels = args['n_test_labels']\n",
        "n_shots = args['n_shots']\n",
        "per_task_lr = args['per_task_lr']\n",
        "meta_lr = args['meta_lr']\n",
        "train_adapt_steps = args['train_adapt_steps']\n",
        "test_adapt_steps = args['test_adapt_steps']\n",
        "meta_batch_size = args['meta_batch_size']\n",
        "n_epochs = args['n_epochs']\n"
      ]
    },
    {
      "cell_type": "code",
      "execution_count": 4,
      "metadata": {
        "colab": {
          "base_uri": "https://localhost:8080/",
          "height": 220,
          "referenced_widgets": [
            "d4b4dc44f6ff4befa44c0e15b9fb4efa",
            "dd1a50fe1d8f46cab1dec7073562e321",
            "23971a00be444ca087ce40e2a1df7433",
            "9044ccfa1cad42b0ba639dd896ef96b2",
            "507e7a4fd61c49f4b494cac123687084",
            "9b9ab82aeccc41e2b2a0c11704dd71eb",
            "cbf244c369054fec8f93a928ed62b7da",
            "fa01bcb18601479b89e6db78b10393ce",
            "4e82eb7715e44cb4a22900df96f79c3b",
            "cd115ff2d9e34d0097bf1eb1da38283e",
            "70c8fee94e134df9a050ffee3698eb78",
            "9c1fcd87acdf44e89026aad6838377ba",
            "5b369234e4f9420194ee1763aeda51ea",
            "a594c5f4df3b45bc9010e6132fcdc4e4",
            "7138c8a0fa56417a9e733fe805552eb9",
            "3d9cd8aa361b41f889451ce3c6be2084",
            "2089166394df4b158f4bfe67d151a022",
            "0beb8560005e40a9895770d67feabb78",
            "5ebbd071b7a144068494e7c820ef47d8",
            "211480214953483a995638d7b02d4f56",
            "9b928b32f244475da4a24b5c9207e141",
            "92d921f55e3d47a28c1823452efe9619"
          ]
        },
        "id": "VNAnaaawlmt9",
        "outputId": "a768ca19-9a2f-4a3b-e188-a22af1c283dc"
      },
      "outputs": [
        {
          "output_type": "stream",
          "name": "stdout",
          "text": [
            "get tasks\n"
          ]
        },
        {
          "output_type": "stream",
          "name": "stderr",
          "text": [
            "/usr/local/lib/python3.7/dist-packages/torchvision/transforms/transforms.py:288: UserWarning: Argument interpolation should be of type InterpolationMode instead of int. Please, use InterpolationMode enum.\n",
            "  \"Argument interpolation should be of type InterpolationMode instead of int. \"\n"
          ]
        },
        {
          "output_type": "stream",
          "name": "stdout",
          "text": [
            "Downloading https://raw.githubusercontent.com/brendenlake/omniglot/master/python/images_background.zip to /root/data/omniglot-py/images_background.zip\n"
          ]
        },
        {
          "output_type": "display_data",
          "data": {
            "application/vnd.jupyter.widget-view+json": {
              "model_id": "d4b4dc44f6ff4befa44c0e15b9fb4efa",
              "version_minor": 0,
              "version_major": 2
            },
            "text/plain": [
              "  0%|          | 0/9464212 [00:00<?, ?it/s]"
            ]
          },
          "metadata": {}
        },
        {
          "output_type": "stream",
          "name": "stdout",
          "text": [
            "Extracting /root/data/omniglot-py/images_background.zip to /root/data/omniglot-py\n",
            "Downloading https://raw.githubusercontent.com/brendenlake/omniglot/master/python/images_evaluation.zip to /root/data/omniglot-py/images_evaluation.zip\n"
          ]
        },
        {
          "output_type": "display_data",
          "data": {
            "application/vnd.jupyter.widget-view+json": {
              "model_id": "9c1fcd87acdf44e89026aad6838377ba",
              "version_minor": 0,
              "version_major": 2
            },
            "text/plain": [
              "  0%|          | 0/6462886 [00:00<?, ?it/s]"
            ]
          },
          "metadata": {}
        },
        {
          "output_type": "stream",
          "name": "stdout",
          "text": [
            "Extracting /root/data/omniglot-py/images_evaluation.zip to /root/data/omniglot-py\n",
            "schedule training\n"
          ]
        }
      ],
      "source": [
        "print(\"get tasks\")\n",
        "task_sets = l2l.vision.benchmarks.get_tasksets(\n",
        "    dataset,\n",
        "    train_samples=train_sample_size,\n",
        "    train_ways=n_test_labels,\n",
        "    test_samples=2 * n_shots,\n",
        "    test_ways=n_test_labels,\n",
        "    root='~/data')\n",
        "\n",
        "print(\"schedule training\")\n",
        "train_schedule = RandomSchedule(task_sets.train)\n",
        "#train_schedule = PredictionSimilaritySchedule(task_sets.train, shots=n_shots, ways=n_test_labels, similar_first=True)\n",
        "#train_schedule = BatchLossSchedule(task_sets.train, shots=n_shots, ways=n_test_labels, hardest_first=True)\n"
      ]
    },
    {
      "cell_type": "code",
      "execution_count": 5,
      "metadata": {
        "colab": {
          "base_uri": "https://localhost:8080/"
        },
        "id": "TOQqOFubl2ek",
        "outputId": "280d754d-0f83-4e7d-8d6c-4d4857bcfbe2"
      },
      "outputs": [
        {
          "output_type": "stream",
          "name": "stdout",
          "text": [
            "load model (dataset is omniglot)\n",
            "OmniglotCNN(\n",
            "  (base): ConvBase(\n",
            "    (0): ConvBlock(\n",
            "      (normalize): BatchNorm2d(64, eps=1e-05, momentum=0.1, affine=True, track_running_stats=True)\n",
            "      (relu): ReLU()\n",
            "      (conv): Conv2d(1, 64, kernel_size=(3, 3), stride=(2, 2), padding=(1, 1))\n",
            "    )\n",
            "    (1): ConvBlock(\n",
            "      (normalize): BatchNorm2d(64, eps=1e-05, momentum=0.1, affine=True, track_running_stats=True)\n",
            "      (relu): ReLU()\n",
            "      (conv): Conv2d(64, 64, kernel_size=(3, 3), stride=(2, 2), padding=(1, 1))\n",
            "    )\n",
            "    (2): ConvBlock(\n",
            "      (normalize): BatchNorm2d(64, eps=1e-05, momentum=0.1, affine=True, track_running_stats=True)\n",
            "      (relu): ReLU()\n",
            "      (conv): Conv2d(64, 64, kernel_size=(3, 3), stride=(2, 2), padding=(1, 1))\n",
            "    )\n",
            "    (3): ConvBlock(\n",
            "      (normalize): BatchNorm2d(64, eps=1e-05, momentum=0.1, affine=True, track_running_stats=True)\n",
            "      (relu): ReLU()\n",
            "      (conv): Conv2d(64, 64, kernel_size=(3, 3), stride=(2, 2), padding=(1, 1))\n",
            "    )\n",
            "  )\n",
            "  (features): Sequential(\n",
            "    (0): Lambda()\n",
            "    (1): ConvBase(\n",
            "      (0): ConvBlock(\n",
            "        (normalize): BatchNorm2d(64, eps=1e-05, momentum=0.1, affine=True, track_running_stats=True)\n",
            "        (relu): ReLU()\n",
            "        (conv): Conv2d(1, 64, kernel_size=(3, 3), stride=(2, 2), padding=(1, 1))\n",
            "      )\n",
            "      (1): ConvBlock(\n",
            "        (normalize): BatchNorm2d(64, eps=1e-05, momentum=0.1, affine=True, track_running_stats=True)\n",
            "        (relu): ReLU()\n",
            "        (conv): Conv2d(64, 64, kernel_size=(3, 3), stride=(2, 2), padding=(1, 1))\n",
            "      )\n",
            "      (2): ConvBlock(\n",
            "        (normalize): BatchNorm2d(64, eps=1e-05, momentum=0.1, affine=True, track_running_stats=True)\n",
            "        (relu): ReLU()\n",
            "        (conv): Conv2d(64, 64, kernel_size=(3, 3), stride=(2, 2), padding=(1, 1))\n",
            "      )\n",
            "      (3): ConvBlock(\n",
            "        (normalize): BatchNorm2d(64, eps=1e-05, momentum=0.1, affine=True, track_running_stats=True)\n",
            "        (relu): ReLU()\n",
            "        (conv): Conv2d(64, 64, kernel_size=(3, 3), stride=(2, 2), padding=(1, 1))\n",
            "      )\n",
            "    )\n",
            "    (2): Lambda()\n",
            "    (3): Flatten()\n",
            "  )\n",
            "  (classifier): Linear(in_features=64, out_features=5, bias=True)\n",
            ")\n",
            "create meta learner\n"
          ]
        }
      ],
      "source": [
        "print(f\"load model (dataset is {dataset})\")\n",
        "if dataset == \"mini-imagenet\":\n",
        "    model = l2l.vision.models.MiniImagenetCNN(n_test_labels)\n",
        "else:\n",
        "    model = l2l.vision.models.OmniglotCNN(n_test_labels)\n",
        "\n",
        "print(model)\n",
        "model.to(device)\n",
        "\n",
        "f_loss = nn.CrossEntropyLoss(reduction='mean')\n",
        "\n",
        "print(f\"create meta learner\")\n",
        "meta_learner = MetaLearner(\n",
        "    per_task_lr,\n",
        "    meta_lr,\n",
        "    train_adapt_steps,\n",
        "    test_adapt_steps,\n",
        "    meta_batch_size,\n",
        "    model,\n",
        "    f_loss,\n",
        "    device)\n"
      ]
    },
    {
      "cell_type": "code",
      "execution_count": 6,
      "metadata": {
        "colab": {
          "base_uri": "https://localhost:8080/"
        },
        "id": "XwXBluWnl-Bf",
        "outputId": "afab9e52-0a22-4164-b27c-8945a3cd0151"
      },
      "outputs": [
        {
          "output_type": "stream",
          "name": "stdout",
          "text": [
            "meta learner train\n"
          ]
        },
        {
          "output_type": "stream",
          "name": "stderr",
          "text": [
            "/usr/local/lib/python3.7/dist-packages/torch/_tensor.py:1013: UserWarning: The .grad attribute of a Tensor that is not a leaf Tensor is being accessed. Its .grad attribute won't be populated during autograd.backward(). If you indeed want the .grad field to be populated for a non-leaf Tensor, use .retain_grad() on the non-leaf Tensor. If you access the non-leaf Tensor by mistake, make sure you access the leaf Tensor instead. See github.com/pytorch/pytorch/pull/30531 for more informations. (Triggered internally at  aten/src/ATen/core/TensorBody.h:417.)\n",
            "  return self._grad\n"
          ]
        },
        {
          "output_type": "stream",
          "name": "stdout",
          "text": [
            "epoch=1/100, loss=0.717, acc=0.770\n",
            "epoch=2/100, loss=0.720, acc=0.770\n",
            "epoch=3/100, loss=0.649, acc=0.787\n",
            "epoch=4/100, loss=0.750, acc=0.794\n",
            "epoch=5/100, loss=0.728, acc=0.764\n",
            "epoch=6/100, loss=0.618, acc=0.760\n",
            "epoch=7/100, loss=0.654, acc=0.770\n",
            "epoch=8/100, loss=0.558, acc=0.821\n",
            "epoch=9/100, loss=0.482, acc=0.848\n",
            "epoch=10/100, loss=0.541, acc=0.824\n",
            "epoch=11/100, loss=0.585, acc=0.807\n",
            "epoch=12/100, loss=0.486, acc=0.838\n",
            "epoch=13/100, loss=0.349, acc=0.865\n",
            "epoch=14/100, loss=0.517, acc=0.851\n",
            "epoch=15/100, loss=0.554, acc=0.804\n",
            "epoch=16/100, loss=0.430, acc=0.848\n",
            "epoch=17/100, loss=0.487, acc=0.834\n",
            "epoch=18/100, loss=0.505, acc=0.855\n",
            "epoch=19/100, loss=0.537, acc=0.838\n",
            "epoch=20/100, loss=0.495, acc=0.841\n",
            "epoch=21/100, loss=0.413, acc=0.875\n",
            "epoch=22/100, loss=0.433, acc=0.885\n",
            "epoch=23/100, loss=0.402, acc=0.861\n",
            "epoch=24/100, loss=0.371, acc=0.885\n",
            "epoch=25/100, loss=0.508, acc=0.831\n",
            "epoch=26/100, loss=0.424, acc=0.858\n",
            "epoch=27/100, loss=0.451, acc=0.858\n",
            "epoch=28/100, loss=0.493, acc=0.848\n",
            "epoch=29/100, loss=0.475, acc=0.845\n",
            "epoch=30/100, loss=0.480, acc=0.841\n",
            "epoch=31/100, loss=0.458, acc=0.838\n",
            "epoch=32/100, loss=0.523, acc=0.807\n",
            "epoch=33/100, loss=0.395, acc=0.868\n",
            "epoch=34/100, loss=0.444, acc=0.875\n",
            "epoch=35/100, loss=0.370, acc=0.875\n",
            "epoch=36/100, loss=0.408, acc=0.872\n",
            "epoch=37/100, loss=0.417, acc=0.868\n",
            "epoch=38/100, loss=0.341, acc=0.882\n",
            "epoch=39/100, loss=0.423, acc=0.848\n",
            "epoch=40/100, loss=0.301, acc=0.912\n",
            "epoch=41/100, loss=0.502, acc=0.831\n",
            "epoch=42/100, loss=0.352, acc=0.909\n",
            "epoch=43/100, loss=0.454, acc=0.848\n",
            "epoch=44/100, loss=0.373, acc=0.885\n",
            "epoch=45/100, loss=0.340, acc=0.882\n",
            "epoch=46/100, loss=0.299, acc=0.916\n",
            "epoch=47/100, loss=0.490, acc=0.865\n",
            "epoch=48/100, loss=0.387, acc=0.861\n",
            "epoch=49/100, loss=0.407, acc=0.889\n",
            "epoch=50/100, loss=0.389, acc=0.875\n",
            "epoch=51/100, loss=0.270, acc=0.936\n",
            "epoch=52/100, loss=0.356, acc=0.865\n",
            "epoch=53/100, loss=0.386, acc=0.865\n",
            "epoch=54/100, loss=0.284, acc=0.932\n",
            "epoch=55/100, loss=0.359, acc=0.892\n",
            "epoch=56/100, loss=0.354, acc=0.882\n",
            "epoch=57/100, loss=0.288, acc=0.912\n",
            "epoch=58/100, loss=0.374, acc=0.865\n",
            "epoch=59/100, loss=0.372, acc=0.875\n",
            "epoch=60/100, loss=0.319, acc=0.895\n",
            "epoch=61/100, loss=0.419, acc=0.845\n",
            "epoch=62/100, loss=0.312, acc=0.895\n",
            "epoch=63/100, loss=0.234, acc=0.932\n",
            "epoch=64/100, loss=0.386, acc=0.902\n",
            "epoch=65/100, loss=0.395, acc=0.878\n",
            "epoch=66/100, loss=0.266, acc=0.916\n",
            "epoch=67/100, loss=0.318, acc=0.912\n",
            "epoch=68/100, loss=0.356, acc=0.878\n",
            "epoch=69/100, loss=0.356, acc=0.885\n",
            "epoch=70/100, loss=0.274, acc=0.912\n",
            "epoch=71/100, loss=0.353, acc=0.895\n",
            "epoch=72/100, loss=0.440, acc=0.845\n",
            "epoch=73/100, loss=0.327, acc=0.916\n",
            "epoch=74/100, loss=0.252, acc=0.926\n",
            "epoch=75/100, loss=0.246, acc=0.929\n",
            "epoch=76/100, loss=0.383, acc=0.875\n",
            "epoch=77/100, loss=0.310, acc=0.905\n",
            "epoch=78/100, loss=0.175, acc=0.959\n",
            "epoch=79/100, loss=0.430, acc=0.855\n",
            "epoch=80/100, loss=0.260, acc=0.922\n",
            "epoch=81/100, loss=0.346, acc=0.895\n",
            "epoch=82/100, loss=0.332, acc=0.892\n",
            "epoch=83/100, loss=0.272, acc=0.936\n",
            "epoch=84/100, loss=0.232, acc=0.946\n",
            "epoch=85/100, loss=0.269, acc=0.926\n",
            "epoch=86/100, loss=0.270, acc=0.905\n",
            "epoch=87/100, loss=0.270, acc=0.916\n",
            "epoch=88/100, loss=0.323, acc=0.905\n",
            "epoch=89/100, loss=0.216, acc=0.929\n",
            "epoch=90/100, loss=0.330, acc=0.905\n",
            "epoch=91/100, loss=0.276, acc=0.892\n",
            "epoch=92/100, loss=0.226, acc=0.956\n",
            "epoch=93/100, loss=0.262, acc=0.922\n",
            "epoch=94/100, loss=0.348, acc=0.878\n",
            "epoch=95/100, loss=0.207, acc=0.929\n",
            "epoch=96/100, loss=0.311, acc=0.899\n",
            "epoch=97/100, loss=0.215, acc=0.929\n",
            "epoch=98/100, loss=0.228, acc=0.936\n",
            "epoch=99/100, loss=0.238, acc=0.939\n",
            "epoch=100/100, loss=0.210, acc=0.936\n"
          ]
        }
      ],
      "source": [
        "print(f\"meta learner train\")\n",
        "train_losses, train_accs = meta_learner.meta_train(n_epochs, train_schedule)\n"
      ]
    },
    {
      "cell_type": "code",
      "execution_count": 7,
      "metadata": {
        "colab": {
          "base_uri": "https://localhost:8080/",
          "height": 298
        },
        "id": "7HCyFG5mEOiz",
        "outputId": "d5e592d2-1b78-4847-8b1a-41c49df5fd52"
      },
      "outputs": [
        {
          "output_type": "execute_result",
          "data": {
            "text/plain": [
              "[<matplotlib.lines.Line2D at 0x7fdb3c864950>]"
            ]
          },
          "metadata": {},
          "execution_count": 7
        },
        {
          "output_type": "display_data",
          "data": {
            "image/png": "[encoded data removed]",
            "text/plain": [
              "<Figure size 432x288 with 2 Axes>"
            ]
          },
          "metadata": {
            "needs_background": "light"
          }
        }
      ],
      "source": [
        "_, (ax1, ax2) = plt.subplots(1, 2)\n",
        "ax1.set_title(\"validation losses\") \n",
        "ax1.plot(train_losses)\n",
        "ax2.set_title(\"validation accuracies\") \n",
        "ax2.plot(train_accs)"
      ]
    },
    {
      "cell_type": "code",
      "execution_count": 12,
      "metadata": {
        "colab": {
          "base_uri": "https://localhost:8080/"
        },
        "id": "EhS4Cc_YmFez",
        "outputId": "bd912f93-2a3b-4ccb-9c01-7b30dee782fc"
      },
      "outputs": [
        {
          "output_type": "stream",
          "name": "stdout",
          "text": [
            "meta learner test\n",
            "Meta Test Error 0.448279935400933\n",
            "Meta Test Accuracy 0.8500000089406967\n"
          ]
        }
      ],
      "source": [
        "print(f\"meta learner test\")\n",
        "meta_test_loss, meta_test_acc = meta_learner.meta_test(task_sets.test)\n"
      ]
    },
    {
      "cell_type": "code",
      "execution_count": 9,
      "metadata": {
        "id": "MkmoDuaIE7Tj"
      },
      "outputs": [],
      "source": [
        "checkpoint = {'maml_hyper_params': args,\n",
        "              'state_dict': model.state_dict()}\n",
        "filename = f'meta_test_accuracy_{meta_test_acc:.3f}_checkpoint.pth'\n",
        "torch.save(checkpoint, filename)"
      ]
    },
    {
      "cell_type": "code",
      "execution_count": 9,
      "metadata": {
        "id": "HYSlei_mEOi2"
      },
      "outputs": [],
      "source": [
        ""
      ]
    }
  ],
  "metadata": {
    "accelerator": "GPU",
    "colab": {
      "name": "meta_learner_runner.ipynb",
      "provenance": []
    },
    "kernelspec": {
      "display_name": "Python 3 (ipykernel)",
      "language": "python",
      "name": "python3"
    },
    "language_info": {
      "codemirror_mode": {
        "name": "ipython",
        "version": 3
      },
      "file_extension": ".py",
      "mimetype": "text/x-python",
      "name": "python",
      "nbconvert_exporter": "python",
      "pygments_lexer": "ipython3",
      "version": "3.8.2"
    },
    "widgets": {
      "application/vnd.jupyter.widget-state+json": {
        "d4b4dc44f6ff4befa44c0e15b9fb4efa": {
          "model_module": "@jupyter-widgets/controls",
          "model_name": "HBoxModel",
          "model_module_version": "1.5.0",
          "state": {
            "_view_name": "HBoxView",
            "_dom_classes": [],
            "_model_name": "HBoxModel",
            "_view_module": "@jupyter-widgets/controls",
            "_model_module_version": "1.5.0",
            "_view_count": null,
            "_view_module_version": "1.5.0",
            "box_style": "",
            "layout": "IPY_MODEL_dd1a50fe1d8f46cab1dec7073562e321",
            "_model_module": "@jupyter-widgets/controls",
            "children": [
              "IPY_MODEL_23971a00be444ca087ce40e2a1df7433",
              "IPY_MODEL_9044ccfa1cad42b0ba639dd896ef96b2",
              "IPY_MODEL_507e7a4fd61c49f4b494cac123687084"
            ]
          }
        },
        "dd1a50fe1d8f46cab1dec7073562e321": {
          "model_module": "@jupyter-widgets/base",
          "model_name": "LayoutModel",
          "model_module_version": "1.2.0",
          "state": {
            "_view_name": "LayoutView",
            "grid_template_rows": null,
            "right": null,
            "justify_content": null,
            "_view_module": "@jupyter-widgets/base",
            "overflow": null,
            "_model_module_version": "1.2.0",
            "_view_count": null,
            "flex_flow": null,
            "width": null,
            "min_width": null,
            "border": null,
            "align_items": null,
            "bottom": null,
            "_model_module": "@jupyter-widgets/base",
            "top": null,
            "grid_column": null,
            "overflow_y": null,
            "overflow_x": null,
            "grid_auto_flow": null,
            "grid_area": null,
            "grid_template_columns": null,
            "flex": null,
            "_model_name": "LayoutModel",
            "justify_items": null,
            "grid_row": null,
            "max_height": null,
            "align_content": null,
            "visibility": null,
            "align_self": null,
            "height": null,
            "min_height": null,
            "padding": null,
            "grid_auto_rows": null,
            "grid_gap": null,
            "max_width": null,
            "order": null,
            "_view_module_version": "1.2.0",
            "grid_template_areas": null,
            "object_position": null,
            "object_fit": null,
            "grid_auto_columns": null,
            "margin": null,
            "display": null,
            "left": null
          }
        },
        "23971a00be444ca087ce40e2a1df7433": {
          "model_module": "@jupyter-widgets/controls",
          "model_name": "HTMLModel",
          "model_module_version": "1.5.0",
          "state": {
            "_view_name": "HTMLView",
            "style": "IPY_MODEL_9b9ab82aeccc41e2b2a0c11704dd71eb",
            "_dom_classes": [],
            "description": "",
            "_model_name": "HTMLModel",
            "placeholder": "​",
            "_view_module": "@jupyter-widgets/controls",
            "_model_module_version": "1.5.0",
            "value": "",
            "_view_count": null,
            "_view_module_version": "1.5.0",
            "description_tooltip": null,
            "_model_module": "@jupyter-widgets/controls",
            "layout": "IPY_MODEL_cbf244c369054fec8f93a928ed62b7da"
          }
        },
        "9044ccfa1cad42b0ba639dd896ef96b2": {
          "model_module": "@jupyter-widgets/controls",
          "model_name": "FloatProgressModel",
          "model_module_version": "1.5.0",
          "state": {
            "_view_name": "ProgressView",
            "style": "IPY_MODEL_fa01bcb18601479b89e6db78b10393ce",
            "_dom_classes": [],
            "description": "",
            "_model_name": "FloatProgressModel",
            "bar_style": "success",
            "max": 9464212,
            "_view_module": "@jupyter-widgets/controls",
            "_model_module_version": "1.5.0",
            "value": 9464212,
            "_view_count": null,
            "_view_module_version": "1.5.0",
            "orientation": "horizontal",
            "min": 0,
            "description_tooltip": null,
            "_model_module": "@jupyter-widgets/controls",
            "layout": "IPY_MODEL_4e82eb7715e44cb4a22900df96f79c3b"
          }
        },
        "507e7a4fd61c49f4b494cac123687084": {
          "model_module": "@jupyter-widgets/controls",
          "model_name": "HTMLModel",
          "model_module_version": "1.5.0",
          "state": {
            "_view_name": "HTMLView",
            "style": "IPY_MODEL_cd115ff2d9e34d0097bf1eb1da38283e",
            "_dom_classes": [],
            "description": "",
            "_model_name": "HTMLModel",
            "placeholder": "​",
            "_view_module": "@jupyter-widgets/controls",
            "_model_module_version": "1.5.0",
            "value": " 9464832/? [00:00&lt;00:00, 25788408.27it/s]",
            "_view_count": null,
            "_view_module_version": "1.5.0",
            "description_tooltip": null,
            "_model_module": "@jupyter-widgets/controls",
            "layout": "IPY_MODEL_70c8fee94e134df9a050ffee3698eb78"
          }
        },
        "9b9ab82aeccc41e2b2a0c11704dd71eb": {
          "model_module": "@jupyter-widgets/controls",
          "model_name": "DescriptionStyleModel",
          "model_module_version": "1.5.0",
          "state": {
            "_view_name": "StyleView",
            "_model_name": "DescriptionStyleModel",
            "description_width": "",
            "_view_module": "@jupyter-widgets/base",
            "_model_module_version": "1.5.0",
            "_view_count": null,
            "_view_module_version": "1.2.0",
            "_model_module": "@jupyter-widgets/controls"
          }
        },
        "cbf244c369054fec8f93a928ed62b7da": {
          "model_module": "@jupyter-widgets/base",
          "model_name": "LayoutModel",
          "model_module_version": "1.2.0",
          "state": {
            "_view_name": "LayoutView",
            "grid_template_rows": null,
            "right": null,
            "justify_content": null,
            "_view_module": "@jupyter-widgets/base",
            "overflow": null,
            "_model_module_version": "1.2.0",
            "_view_count": null,
            "flex_flow": null,
            "width": null,
            "min_width": null,
            "border": null,
            "align_items": null,
            "bottom": null,
            "_model_module": "@jupyter-widgets/base",
            "top": null,
            "grid_column": null,
            "overflow_y": null,
            "overflow_x": null,
            "grid_auto_flow": null,
            "grid_area": null,
            "grid_template_columns": null,
            "flex": null,
            "_model_name": "LayoutModel",
            "justify_items": null,
            "grid_row": null,
            "max_height": null,
            "align_content": null,
            "visibility": null,
            "align_self": null,
            "height": null,
            "min_height": null,
            "padding": null,
            "grid_auto_rows": null,
            "grid_gap": null,
            "max_width": null,
            "order": null,
            "_view_module_version": "1.2.0",
            "grid_template_areas": null,
            "object_position": null,
            "object_fit": null,
            "grid_auto_columns": null,
            "margin": null,
            "display": null,
            "left": null
          }
        },
        "fa01bcb18601479b89e6db78b10393ce": {
          "model_module": "@jupyter-widgets/controls",
          "model_name": "ProgressStyleModel",
          "model_module_version": "1.5.0",
          "state": {
            "_view_name": "StyleView",
            "_model_name": "ProgressStyleModel",
            "description_width": "",
            "_view_module": "@jupyter-widgets/base",
            "_model_module_version": "1.5.0",
            "_view_count": null,
            "_view_module_version": "1.2.0",
            "bar_color": null,
            "_model_module": "@jupyter-widgets/controls"
          }
        },
        "4e82eb7715e44cb4a22900df96f79c3b": {
          "model_module": "@jupyter-widgets/base",
          "model_name": "LayoutModel",
          "model_module_version": "1.2.0",
          "state": {
            "_view_name": "LayoutView",
            "grid_template_rows": null,
            "right": null,
            "justify_content": null,
            "_view_module": "@jupyter-widgets/base",
            "overflow": null,
            "_model_module_version": "1.2.0",
            "_view_count": null,
            "flex_flow": null,
            "width": null,
            "min_width": null,
            "border": null,
            "align_items": null,
            "bottom": null,
            "_model_module": "@jupyter-widgets/base",
            "top": null,
            "grid_column": null,
            "overflow_y": null,
            "overflow_x": null,
            "grid_auto_flow": null,
            "grid_area": null,
            "grid_template_columns": null,
            "flex": null,
            "_model_name": "LayoutModel",
            "justify_items": null,
            "grid_row": null,
            "max_height": null,
            "align_content": null,
            "visibility": null,
            "align_self": null,
            "height": null,
            "min_height": null,
            "padding": null,
            "grid_auto_rows": null,
            "grid_gap": null,
            "max_width": null,
            "order": null,
            "_view_module_version": "1.2.0",
            "grid_template_areas": null,
            "object_position": null,
            "object_fit": null,
            "grid_auto_columns": null,
            "margin": null,
            "display": null,
            "left": null
          }
        },
        "cd115ff2d9e34d0097bf1eb1da38283e": {
          "model_module": "@jupyter-widgets/controls",
          "model_name": "DescriptionStyleModel",
          "model_module_version": "1.5.0",
          "state": {
            "_view_name": "StyleView",
            "_model_name": "DescriptionStyleModel",
            "description_width": "",
            "_view_module": "@jupyter-widgets/base",
            "_model_module_version": "1.5.0",
            "_view_count": null,
            "_view_module_version": "1.2.0",
            "_model_module": "@jupyter-widgets/controls"
          }
        },
        "70c8fee94e134df9a050ffee3698eb78": {
          "model_module": "@jupyter-widgets/base",
          "model_name": "LayoutModel",
          "model_module_version": "1.2.0",
          "state": {
            "_view_name": "LayoutView",
            "grid_template_rows": null,
            "right": null,
            "justify_content": null,
            "_view_module": "@jupyter-widgets/base",
            "overflow": null,
            "_model_module_version": "1.2.0",
            "_view_count": null,
            "flex_flow": null,
            "width": null,
            "min_width": null,
            "border": null,
            "align_items": null,
            "bottom": null,
            "_model_module": "@jupyter-widgets/base",
            "top": null,
            "grid_column": null,
            "overflow_y": null,
            "overflow_x": null,
            "grid_auto_flow": null,
            "grid_area": null,
            "grid_template_columns": null,
            "flex": null,
            "_model_name": "LayoutModel",
            "justify_items": null,
            "grid_row": null,
            "max_height": null,
            "align_content": null,
            "visibility": null,
            "align_self": null,
            "height": null,
            "min_height": null,
            "padding": null,
            "grid_auto_rows": null,
            "grid_gap": null,
            "max_width": null,
            "order": null,
            "_view_module_version": "1.2.0",
            "grid_template_areas": null,
            "object_position": null,
            "object_fit": null,
            "grid_auto_columns": null,
            "margin": null,
            "display": null,
            "left": null
          }
        },
        "9c1fcd87acdf44e89026aad6838377ba": {
          "model_module": "@jupyter-widgets/controls",
          "model_name": "HBoxModel",
          "model_module_version": "1.5.0",
          "state": {
            "_view_name": "HBoxView",
            "_dom_classes": [],
            "_model_name": "HBoxModel",
            "_view_module": "@jupyter-widgets/controls",
            "_model_module_version": "1.5.0",
            "_view_count": null,
            "_view_module_version": "1.5.0",
            "box_style": "",
            "layout": "IPY_MODEL_5b369234e4f9420194ee1763aeda51ea",
            "_model_module": "@jupyter-widgets/controls",
            "children": [
              "IPY_MODEL_a594c5f4df3b45bc9010e6132fcdc4e4",
              "IPY_MODEL_7138c8a0fa56417a9e733fe805552eb9",
              "IPY_MODEL_3d9cd8aa361b41f889451ce3c6be2084"
            ]
          }
        },
        "5b369234e4f9420194ee1763aeda51ea": {
          "model_module": "@jupyter-widgets/base",
          "model_name": "LayoutModel",
          "model_module_version": "1.2.0",
          "state": {
            "_view_name": "LayoutView",
            "grid_template_rows": null,
            "right": null,
            "justify_content": null,
            "_view_module": "@jupyter-widgets/base",
            "overflow": null,
            "_model_module_version": "1.2.0",
            "_view_count": null,
            "flex_flow": null,
            "width": null,
            "min_width": null,
            "border": null,
            "align_items": null,
            "bottom": null,
            "_model_module": "@jupyter-widgets/base",
            "top": null,
            "grid_column": null,
            "overflow_y": null,
            "overflow_x": null,
            "grid_auto_flow": null,
            "grid_area": null,
            "grid_template_columns": null,
            "flex": null,
            "_model_name": "LayoutModel",
            "justify_items": null,
            "grid_row": null,
            "max_height": null,
            "align_content": null,
            "visibility": null,
            "align_self": null,
            "height": null,
            "min_height": null,
            "padding": null,
            "grid_auto_rows": null,
            "grid_gap": null,
            "max_width": null,
            "order": null,
            "_view_module_version": "1.2.0",
            "grid_template_areas": null,
            "object_position": null,
            "object_fit": null,
            "grid_auto_columns": null,
            "margin": null,
            "display": null,
            "left": null
          }
        },
        "a594c5f4df3b45bc9010e6132fcdc4e4": {
          "model_module": "@jupyter-widgets/controls",
          "model_name": "HTMLModel",
          "model_module_version": "1.5.0",
          "state": {
            "_view_name": "HTMLView",
            "style": "IPY_MODEL_2089166394df4b158f4bfe67d151a022",
            "_dom_classes": [],
            "description": "",
            "_model_name": "HTMLModel",
            "placeholder": "​",
            "_view_module": "@jupyter-widgets/controls",
            "_model_module_version": "1.5.0",
            "value": "",
            "_view_count": null,
            "_view_module_version": "1.5.0",
            "description_tooltip": null,
            "_model_module": "@jupyter-widgets/controls",
            "layout": "IPY_MODEL_0beb8560005e40a9895770d67feabb78"
          }
        },
        "7138c8a0fa56417a9e733fe805552eb9": {
          "model_module": "@jupyter-widgets/controls",
          "model_name": "FloatProgressModel",
          "model_module_version": "1.5.0",
          "state": {
            "_view_name": "ProgressView",
            "style": "IPY_MODEL_5ebbd071b7a144068494e7c820ef47d8",
            "_dom_classes": [],
            "description": "",
            "_model_name": "FloatProgressModel",
            "bar_style": "success",
            "max": 6462886,
            "_view_module": "@jupyter-widgets/controls",
            "_model_module_version": "1.5.0",
            "value": 6462886,
            "_view_count": null,
            "_view_module_version": "1.5.0",
            "orientation": "horizontal",
            "min": 0,
            "description_tooltip": null,
            "_model_module": "@jupyter-widgets/controls",
            "layout": "IPY_MODEL_211480214953483a995638d7b02d4f56"
          }
        },
        "3d9cd8aa361b41f889451ce3c6be2084": {
          "model_module": "@jupyter-widgets/controls",
          "model_name": "HTMLModel",
          "model_module_version": "1.5.0",
          "state": {
            "_view_name": "HTMLView",
            "style": "IPY_MODEL_9b928b32f244475da4a24b5c9207e141",
            "_dom_classes": [],
            "description": "",
            "_model_name": "HTMLModel",
            "placeholder": "​",
            "_view_module": "@jupyter-widgets/controls",
            "_model_module_version": "1.5.0",
            "value": " 6463488/? [00:00&lt;00:00, 22955967.37it/s]",
            "_view_count": null,
            "_view_module_version": "1.5.0",
            "description_tooltip": null,
            "_model_module": "@jupyter-widgets/controls",
            "layout": "IPY_MODEL_92d921f55e3d47a28c1823452efe9619"
          }
        },
        "2089166394df4b158f4bfe67d151a022": {
          "model_module": "@jupyter-widgets/controls",
          "model_name": "DescriptionStyleModel",
          "model_module_version": "1.5.0",
          "state": {
            "_view_name": "StyleView",
            "_model_name": "DescriptionStyleModel",
            "description_width": "",
            "_view_module": "@jupyter-widgets/base",
            "_model_module_version": "1.5.0",
            "_view_count": null,
            "_view_module_version": "1.2.0",
            "_model_module": "@jupyter-widgets/controls"
          }
        },
        "0beb8560005e40a9895770d67feabb78": {
          "model_module": "@jupyter-widgets/base",
          "model_name": "LayoutModel",
          "model_module_version": "1.2.0",
          "state": {
            "_view_name": "LayoutView",
            "grid_template_rows": null,
            "right": null,
            "justify_content": null,
            "_view_module": "@jupyter-widgets/base",
            "overflow": null,
            "_model_module_version": "1.2.0",
            "_view_count": null,
            "flex_flow": null,
            "width": null,
            "min_width": null,
            "border": null,
            "align_items": null,
            "bottom": null,
            "_model_module": "@jupyter-widgets/base",
            "top": null,
            "grid_column": null,
            "overflow_y": null,
            "overflow_x": null,
            "grid_auto_flow": null,
            "grid_area": null,
            "grid_template_columns": null,
            "flex": null,
            "_model_name": "LayoutModel",
            "justify_items": null,
            "grid_row": null,
            "max_height": null,
            "align_content": null,
            "visibility": null,
            "align_self": null,
            "height": null,
            "min_height": null,
            "padding": null,
            "grid_auto_rows": null,
            "grid_gap": null,
            "max_width": null,
            "order": null,
            "_view_module_version": "1.2.0",
            "grid_template_areas": null,
            "object_position": null,
            "object_fit": null,
            "grid_auto_columns": null,
            "margin": null,
            "display": null,
            "left": null
          }
        },
        "5ebbd071b7a144068494e7c820ef47d8": {
          "model_module": "@jupyter-widgets/controls",
          "model_name": "ProgressStyleModel",
          "model_module_version": "1.5.0",
          "state": {
            "_view_name": "StyleView",
            "_model_name": "ProgressStyleModel",
            "description_width": "",
            "_view_module": "@jupyter-widgets/base",
            "_model_module_version": "1.5.0",
            "_view_count": null,
            "_view_module_version": "1.2.0",
            "bar_color": null,
            "_model_module": "@jupyter-widgets/controls"
          }
        },
        "211480214953483a995638d7b02d4f56": {
          "model_module": "@jupyter-widgets/base",
          "model_name": "LayoutModel",
          "model_module_version": "1.2.0",
          "state": {
            "_view_name": "LayoutView",
            "grid_template_rows": null,
            "right": null,
            "justify_content": null,
            "_view_module": "@jupyter-widgets/base",
            "overflow": null,
            "_model_module_version": "1.2.0",
            "_view_count": null,
            "flex_flow": null,
            "width": null,
            "min_width": null,
            "border": null,
            "align_items": null,
            "bottom": null,
            "_model_module": "@jupyter-widgets/base",
            "top": null,
            "grid_column": null,
            "overflow_y": null,
            "overflow_x": null,
            "grid_auto_flow": null,
            "grid_area": null,
            "grid_template_columns": null,
            "flex": null,
            "_model_name": "LayoutModel",
            "justify_items": null,
            "grid_row": null,
            "max_height": null,
            "align_content": null,
            "visibility": null,
            "align_self": null,
            "height": null,
            "min_height": null,
            "padding": null,
            "grid_auto_rows": null,
            "grid_gap": null,
            "max_width": null,
            "order": null,
            "_view_module_version": "1.2.0",
            "grid_template_areas": null,
            "object_position": null,
            "object_fit": null,
            "grid_auto_columns": null,
            "margin": null,
            "display": null,
            "left": null
          }
        },
        "9b928b32f244475da4a24b5c9207e141": {
          "model_module": "@jupyter-widgets/controls",
          "model_name": "DescriptionStyleModel",
          "model_module_version": "1.5.0",
          "state": {
            "_view_name": "StyleView",
            "_model_name": "DescriptionStyleModel",
            "description_width": "",
            "_view_module": "@jupyter-widgets/base",
            "_model_module_version": "1.5.0",
            "_view_count": null,
            "_view_module_version": "1.2.0",
            "_model_module": "@jupyter-widgets/controls"
          }
        },
        "92d921f55e3d47a28c1823452efe9619": {
          "model_module": "@jupyter-widgets/base",
          "model_name": "LayoutModel",
          "model_module_version": "1.2.0",
          "state": {
            "_view_name": "LayoutView",
            "grid_template_rows": null,
            "right": null,
            "justify_content": null,
            "_view_module": "@jupyter-widgets/base",
            "overflow": null,
            "_model_module_version": "1.2.0",
            "_view_count": null,
            "flex_flow": null,
            "width": null,
            "min_width": null,
            "border": null,
            "align_items": null,
            "bottom": null,
            "_model_module": "@jupyter-widgets/base",
            "top": null,
            "grid_column": null,
            "overflow_y": null,
            "overflow_x": null,
            "grid_auto_flow": null,
            "grid_area": null,
            "grid_template_columns": null,
            "flex": null,
            "_model_name": "LayoutModel",
            "justify_items": null,
            "grid_row": null,
            "max_height": null,
            "align_content": null,
            "visibility": null,
            "align_self": null,
            "height": null,
            "min_height": null,
            "padding": null,
            "grid_auto_rows": null,
            "grid_gap": null,
            "max_width": null,
            "order": null,
            "_view_module_version": "1.2.0",
            "grid_template_areas": null,
            "object_position": null,
            "object_fit": null,
            "grid_auto_columns": null,
            "margin": null,
            "display": null,
            "left": null
          }
        }
      }
    }
  },
  "nbformat": 4,
  "nbformat_minor": 0
}