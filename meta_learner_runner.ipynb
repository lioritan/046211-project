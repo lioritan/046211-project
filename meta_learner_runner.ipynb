{
 "cells": [
  {
   "cell_type": "code",
   "execution_count": 2,
   "metadata": {
    "colab": {
     "base_uri": "https://localhost:8080/"
    },
    "id": "Ow2hzn_XvlnY",
    "outputId": "6f2616be-77fc-44d4-8c34-ff0ee09e3f8b"
   },
   "outputs": [
    {
     "output_type": "stream",
     "name": "stdout",
     "text": [
      "already in /content\n",
      "Cloning into '046211-project'...\n",
      "remote: Enumerating objects: 119, done.\u001B[K\n",
      "remote: Counting objects: 100% (115/115), done.\u001B[K\n",
      "remote: Compressing objects: 100% (82/82), done.\u001B[K\n",
      "remote: Total 119 (delta 65), reused 70 (delta 29), pack-reused 4\u001B[K\n",
      "Receiving objects: 100% (119/119), 492.77 KiB | 3.26 MiB/s, done.\n",
      "Resolving deltas: 100% (65/65), done.\n",
      "/content/046211-project\n",
      "Collecting learn2learn\n",
      "  Downloading learn2learn-0.1.6.tar.gz (604 kB)\n",
      "\u001B[K     |████████████████████████████████| 604 kB 4.2 MB/s \n",
      "\u001B[?25hRequirement already satisfied: numpy>=1.15.4 in /usr/local/lib/python3.7/dist-packages (from learn2learn) (1.19.5)\n",
      "Requirement already satisfied: gym>=0.14.0 in /usr/local/lib/python3.7/dist-packages (from learn2learn) (0.17.3)\n",
      "Requirement already satisfied: torch>=1.1.0 in /usr/local/lib/python3.7/dist-packages (from learn2learn) (1.10.0+cu111)\n",
      "Requirement already satisfied: torchvision>=0.3.0 in /usr/local/lib/python3.7/dist-packages (from learn2learn) (0.11.1+cu111)\n",
      "Requirement already satisfied: scipy in /usr/local/lib/python3.7/dist-packages (from learn2learn) (1.4.1)\n",
      "Requirement already satisfied: requests in /usr/local/lib/python3.7/dist-packages (from learn2learn) (2.23.0)\n",
      "Collecting gsutil\n",
      "  Downloading gsutil-5.6.tar.gz (2.9 MB)\n",
      "\u001B[K     |████████████████████████████████| 2.9 MB 55.4 MB/s \n",
      "\u001B[?25hRequirement already satisfied: tqdm in /usr/local/lib/python3.7/dist-packages (from learn2learn) (4.62.3)\n",
      "Collecting qpth>=0.0.15\n",
      "  Downloading qpth-0.0.15.tar.gz (11 kB)\n",
      "Requirement already satisfied: pyglet<=1.5.0,>=1.4.0 in /usr/local/lib/python3.7/dist-packages (from gym>=0.14.0->learn2learn) (1.5.0)\n",
      "Requirement already satisfied: cloudpickle<1.7.0,>=1.2.0 in /usr/local/lib/python3.7/dist-packages (from gym>=0.14.0->learn2learn) (1.3.0)\n",
      "Requirement already satisfied: future in /usr/local/lib/python3.7/dist-packages (from pyglet<=1.5.0,>=1.4.0->gym>=0.14.0->learn2learn) (0.16.0)\n",
      "Requirement already satisfied: typing-extensions in /usr/local/lib/python3.7/dist-packages (from torch>=1.1.0->learn2learn) (3.10.0.2)\n",
      "Requirement already satisfied: pillow!=8.3.0,>=5.3.0 in /usr/local/lib/python3.7/dist-packages (from torchvision>=0.3.0->learn2learn) (7.1.2)\n",
      "Requirement already satisfied: argcomplete>=1.9.4 in /usr/local/lib/python3.7/dist-packages (from gsutil->learn2learn) (2.0.0)\n",
      "Requirement already satisfied: crcmod>=1.7 in /usr/local/lib/python3.7/dist-packages (from gsutil->learn2learn) (1.7)\n",
      "Collecting fasteners>=0.14.1\n",
      "  Downloading fasteners-0.17.2-py3-none-any.whl (18 kB)\n",
      "Collecting gcs-oauth2-boto-plugin>=3.0\n",
      "  Downloading gcs-oauth2-boto-plugin-3.0.tar.gz (20 kB)\n",
      "Collecting google-apitools>=0.5.32\n",
      "  Downloading google_apitools-0.5.32-py3-none-any.whl (135 kB)\n",
      "\u001B[K     |████████████████████████████████| 135 kB 70.9 MB/s \n",
      "\u001B[?25hCollecting httplib2>=0.18\n",
      "  Downloading httplib2-0.20.2-py3-none-any.whl (96 kB)\n",
      "\u001B[K     |████████████████████████████████| 96 kB 7.6 MB/s \n",
      "\u001B[?25hCollecting google-reauth>=0.1.0\n",
      "  Downloading google_reauth-0.1.1-py2.py3-none-any.whl (17 kB)\n",
      "Collecting monotonic>=1.4\n",
      "  Downloading monotonic-1.6-py2.py3-none-any.whl (8.2 kB)\n",
      "Collecting pyOpenSSL>=0.13\n",
      "  Downloading pyOpenSSL-21.0.0-py2.py3-none-any.whl (55 kB)\n",
      "\u001B[K     |████████████████████████████████| 55 kB 4.3 MB/s \n",
      "\u001B[?25hCollecting retry_decorator>=1.0.0\n",
      "  Downloading retry_decorator-1.1.1.tar.gz (3.9 kB)\n",
      "Requirement already satisfied: six>=1.12.0 in /usr/local/lib/python3.7/dist-packages (from gsutil->learn2learn) (1.15.0)\n",
      "Requirement already satisfied: importlib-metadata<5,>=0.23 in /usr/local/lib/python3.7/dist-packages (from argcomplete>=1.9.4->gsutil->learn2learn) (4.10.0)\n",
      "Collecting rsa==4.7.2\n",
      "  Downloading rsa-4.7.2-py3-none-any.whl (34 kB)\n",
      "Collecting boto>=2.29.1\n",
      "  Downloading boto-2.49.0-py2.py3-none-any.whl (1.4 MB)\n",
      "\u001B[K     |████████████████████████████████| 1.4 MB 55.5 MB/s \n",
      "\u001B[?25hRequirement already satisfied: oauth2client>=2.2.0 in /usr/local/lib/python3.7/dist-packages (from gcs-oauth2-boto-plugin>=3.0->gsutil->learn2learn) (4.1.3)\n",
      "Requirement already satisfied: pyasn1>=0.1.3 in /usr/local/lib/python3.7/dist-packages (from rsa==4.7.2->gcs-oauth2-boto-plugin>=3.0->gsutil->learn2learn) (0.4.8)\n",
      "Collecting pyu2f\n",
      "  Downloading pyu2f-0.1.5.tar.gz (27 kB)\n",
      "Requirement already satisfied: pyparsing!=3.0.0,!=3.0.1,!=3.0.2,!=3.0.3,<4,>=2.4.2 in /usr/local/lib/python3.7/dist-packages (from httplib2>=0.18->gsutil->learn2learn) (3.0.6)\n",
      "Requirement already satisfied: zipp>=0.5 in /usr/local/lib/python3.7/dist-packages (from importlib-metadata<5,>=0.23->argcomplete>=1.9.4->gsutil->learn2learn) (3.7.0)\n",
      "Requirement already satisfied: pyasn1-modules>=0.0.5 in /usr/local/lib/python3.7/dist-packages (from oauth2client>=2.2.0->gcs-oauth2-boto-plugin>=3.0->gsutil->learn2learn) (0.2.8)\n",
      "Collecting cryptography>=3.3\n",
      "  Downloading cryptography-36.0.1-cp36-abi3-manylinux_2_24_x86_64.whl (3.6 MB)\n",
      "\u001B[K     |████████████████████████████████| 3.6 MB 41.2 MB/s \n",
      "\u001B[?25hRequirement already satisfied: cffi>=1.12 in /usr/local/lib/python3.7/dist-packages (from cryptography>=3.3->pyOpenSSL>=0.13->gsutil->learn2learn) (1.15.0)\n",
      "Requirement already satisfied: pycparser in /usr/local/lib/python3.7/dist-packages (from cffi>=1.12->cryptography>=3.3->pyOpenSSL>=0.13->gsutil->learn2learn) (2.21)\n",
      "Requirement already satisfied: chardet<4,>=3.0.2 in /usr/local/lib/python3.7/dist-packages (from requests->learn2learn) (3.0.4)\n",
      "Requirement already satisfied: idna<3,>=2.5 in /usr/local/lib/python3.7/dist-packages (from requests->learn2learn) (2.10)\n",
      "Requirement already satisfied: certifi>=2017.4.17 in /usr/local/lib/python3.7/dist-packages (from requests->learn2learn) (2021.10.8)\n",
      "Requirement already satisfied: urllib3!=1.25.0,!=1.25.1,<1.26,>=1.21.1 in /usr/local/lib/python3.7/dist-packages (from requests->learn2learn) (1.24.3)\n",
      "Building wheels for collected packages: learn2learn, qpth, gsutil, gcs-oauth2-boto-plugin, retry-decorator, pyu2f\n",
      "  Building wheel for learn2learn (setup.py) ... \u001B[?25l\u001B[?25hdone\n",
      "  Created wheel for learn2learn: filename=learn2learn-0.1.6-cp37-cp37m-linux_x86_64.whl size=945697 sha256=875d76438a700b0b03d40189f10e14b3c8899a0d69ee5b6dffefae3b13118ee7\n",
      "  Stored in directory: /root/.cache/pip/wheels/4f/d0/99/d65b01d3a6bda35325b9b2e964c7c17169951c915484029b74\n",
      "  Building wheel for qpth (setup.py) ... \u001B[?25l\u001B[?25hdone\n",
      "  Created wheel for qpth: filename=qpth-0.0.15-py3-none-any.whl size=15379 sha256=83e504e7dc12c658f00daf3f9d250b2836ba4686fcb81866ea37986c71668901\n",
      "  Stored in directory: /root/.cache/pip/wheels/f6/bb/0f/3af358159c8cfc56654d85ba5069b53ab351dee72f5a57c2ff\n",
      "  Building wheel for gsutil (setup.py) ... \u001B[?25l\u001B[?25hdone\n",
      "  Created wheel for gsutil: filename=gsutil-5.6-py3-none-any.whl size=3718400 sha256=dd645adf7f2f3ae4552b391a1c3e491614c4c122c7edfe50a56ce11756ceecd4\n",
      "  Stored in directory: /root/.cache/pip/wheels/0d/33/8c/a05f7d19c7b571e21cb6cef94712772c3da0d5ab9c9755b61f\n",
      "  Building wheel for gcs-oauth2-boto-plugin (setup.py) ... \u001B[?25l\u001B[?25hdone\n",
      "  Created wheel for gcs-oauth2-boto-plugin: filename=gcs_oauth2_boto_plugin-3.0-py3-none-any.whl size=23221 sha256=664a64ab3282cd0521e70a79cdd6831f981c6115b7bf0e3ed41440b0898df352\n",
      "  Stored in directory: /root/.cache/pip/wheels/2a/93/86/cb2140365b10150dbdba338da385c7c18c7cbd9e592e3421db\n",
      "  Building wheel for retry-decorator (setup.py) ... \u001B[?25l\u001B[?25hdone\n",
      "  Created wheel for retry-decorator: filename=retry_decorator-1.1.1-py2.py3-none-any.whl size=3658 sha256=23bc5382ebf67bb1402ae7ce7d6dfa4422686dcdd27165c5fbbece1971245fa4\n",
      "  Stored in directory: /root/.cache/pip/wheels/91/39/dc/7359c639e34d9c388a1b3e1dc444363905194afc70f57eb9a5\n",
      "  Building wheel for pyu2f (setup.py) ... \u001B[?25l\u001B[?25hdone\n",
      "  Created wheel for pyu2f: filename=pyu2f-0.1.5-py3-none-any.whl size=39404 sha256=887a30ec905fb15ef9110ce5a3454ba2c2e6c67a06dd65f5e35abeb106982baa\n",
      "  Stored in directory: /root/.cache/pip/wheels/b3/84/c6/ee8093bf96e2224aca3a9bfa074aa3c86c39208f91055fd60f\n",
      "Successfully built learn2learn qpth gsutil gcs-oauth2-boto-plugin retry-decorator pyu2f\n",
      "Installing collected packages: rsa, pyu2f, httplib2, cryptography, retry-decorator, pyOpenSSL, google-reauth, fasteners, boto, monotonic, google-apitools, gcs-oauth2-boto-plugin, qpth, gsutil, learn2learn\n",
      "  Attempting uninstall: rsa\n",
      "    Found existing installation: rsa 4.8\n",
      "    Uninstalling rsa-4.8:\n",
      "      Successfully uninstalled rsa-4.8\n",
      "  Attempting uninstall: httplib2\n",
      "    Found existing installation: httplib2 0.17.4\n",
      "    Uninstalling httplib2-0.17.4:\n",
      "      Successfully uninstalled httplib2-0.17.4\n",
      "Successfully installed boto-2.49.0 cryptography-36.0.1 fasteners-0.17.2 gcs-oauth2-boto-plugin-3.0 google-apitools-0.5.32 google-reauth-0.1.1 gsutil-5.6 httplib2-0.20.2 learn2learn-0.1.6 monotonic-1.6 pyOpenSSL-21.0.0 pyu2f-0.1.5 qpth-0.0.15 retry-decorator-1.1.1 rsa-4.7.2\n"
     ]
    }
   ],
   "source": [
    "try:\n",
    "    import google.colab\n",
    "    in_colab = True\n",
    "except:\n",
    "    in_colab = False\n",
    "\n",
    "if in_colab:\n",
    "    cur_dir = !pwd\n",
    "    if cur_dir[0] != \"/content\":\n",
    "        print(\"getting back to content dir\")\n",
    "        %cd /content/\n",
    "    else:\n",
    "        print(\"already in /content\")  \n",
    "    !rm -rf 046211-project\n",
    "    !git clone https://github.com/ynahum/046211-project.git\n",
    "    %cd 046211-project\n",
    "    !pip install learn2learn"
   ]
  },
  {
   "cell_type": "code",
   "execution_count": 3,
   "metadata": {
    "id": "BZrhZG-3lebR"
   },
   "outputs": [],
   "source": [
    "from meta_learner_module import MetaLearner\n",
    "from scheduler.batch_loss_schedule import BatchLossSchedule\n",
    "from scheduler.prediction_similarity_schedule import PredictionSimilaritySchedule\n",
    "from scheduler.random_schedule import RandomSchedule\n",
    "from config import defaults\n",
    "\n",
    "import learn2learn as l2l\n",
    "import torch\n",
    "import torch.nn as nn\n",
    "import numpy as np\n",
    "import matplotlib.pyplot as plt\n",
    "import random\n",
    "import copy \n",
    "\n",
    "%matplotlib inline\n",
    "\n",
    "device = torch.device('cuda:0' if torch.cuda.is_available() else 'cpu')\n",
    "\n",
    "seed = 42\n",
    "random.seed(seed)\n",
    "np.random.seed(seed)\n",
    "torch.manual_seed(seed)\n",
    "if torch.cuda.is_available():\n",
    "  torch.cuda.manual_seed(seed)"
   ]
  },
  {
   "cell_type": "code",
   "execution_count": 4,
   "metadata": {
    "colab": {
     "base_uri": "https://localhost:8080/"
    },
    "id": "89Um-t-mmRwK",
    "outputId": "53da2a4d-adc0-4420-ceeb-23e25489fed2"
   },
   "outputs": [
    {
     "output_type": "stream",
     "name": "stdout",
     "text": [
      "{'dataset': 'omniglot', 'train_sample_size': 15, 'n_test_labels': 5, 'n_shots': 1, 'per_task_lr': 0.1, 'meta_lr': 0.003, 'meta_batch_size': 8, 'train_adapt_steps': 5, 'test_adapt_steps': 10, 'n_epochs': 100}\n"
     ]
    }
   ],
   "source": [
    "\n",
    "args = copy.deepcopy(defaults)\n",
    "\n",
    "#play with arguments and override defaults here\n",
    "args['dataset'] = \"omniglot\"\n",
    "if args['dataset'] == \"omniglot\":\n",
    "    args['train_sample_size'] = 15\n",
    "    args['n_shots'] = 1\n",
    "    args['train_adapt_steps'] = 5\n",
    "    args['test_adapt_steps'] = 10\n",
    "    args['per_task_lr'] = 0.1\n",
    "    args['meta_lr'] = 0.003\n",
    "    args['meta_batch_size'] = 8\n",
    "    args['n_epochs'] = 100\n",
    "    \n",
    "print(args)\n",
    "\n",
    "dataset = args['dataset']\n",
    "train_sample_size = args['train_sample_size']\n",
    "n_test_labels = args['n_test_labels']\n",
    "n_shots = args['n_shots']\n",
    "per_task_lr = args['per_task_lr']\n",
    "meta_lr = args['meta_lr']\n",
    "train_adapt_steps = args['train_adapt_steps']\n",
    "test_adapt_steps = args['test_adapt_steps']\n",
    "meta_batch_size = args['meta_batch_size']\n",
    "n_epochs = args['n_epochs']\n"
   ]
  },
  {
   "cell_type": "code",
   "execution_count": 5,
   "metadata": {
    "colab": {
     "base_uri": "https://localhost:8080/",
     "height": 240,
     "referenced_widgets": [
      "66883e9c6d364eceb5b2dcaf0ed8b1e0",
      "737c4e52d79342928feef2fb00536453",
      "e0b83a1809bf49d09356e7847106b92f",
      "be444fcaa779413e9914e82a0f69ddeb",
      "df45c5aed8ba4f7aacace18295391751",
      "817f7e3fdde745ba85cecd03f998af65",
      "e3388aefb6b340dea384ac9bce3d0511",
      "31027467133749cdaa7a0b85e881554e",
      "52ad56cef5bd4db08f06c1f689256904",
      "366ed461b6004f8b944b0cf246ba9622",
      "9682ce6fa2da4448bda87138f0e8e215",
      "20008284fd0a40d299b4c9360969bf81",
      "b626520eb5dd489d97ce5d6a786dbff4",
      "c85d437b49d84771a1e59f3fdc651164",
      "449798d7cae34b1999f649c750327b44",
      "c45f251fff564e019faac7c02d46ec41",
      "f0101cf890104bd7b67150462ea2d6ac",
      "5f61b307e7494158984c78207c782238",
      "b43db59052dc4a228c4517bc6497af8c",
      "d3cda16d3f4d437984cea1cd36ad0c93",
      "293b8d0403fd42f989795d0ff78c4c97",
      "a1545908ceba4f0c8e3e6f0de2b793a7"
     ]
    },
    "id": "VNAnaaawlmt9",
    "outputId": "b091301a-36b3-4a61-e050-13d026c4525f"
   },
   "outputs": [
    {
     "output_type": "stream",
     "name": "stdout",
     "text": [
      "get tasks\n"
     ]
    },
    {
     "output_type": "stream",
     "name": "stderr",
     "text": [
      "/usr/local/lib/python3.7/dist-packages/torchvision/transforms/transforms.py:288: UserWarning: Argument interpolation should be of type InterpolationMode instead of int. Please, use InterpolationMode enum.\n",
      "  \"Argument interpolation should be of type InterpolationMode instead of int. \"\n"
     ]
    },
    {
     "output_type": "stream",
     "name": "stdout",
     "text": [
      "Downloading https://raw.githubusercontent.com/brendenlake/omniglot/master/python/images_background.zip to /root/data/omniglot-py/images_background.zip\n"
     ]
    },
    {
     "output_type": "display_data",
     "data": {
      "application/vnd.jupyter.widget-view+json": {
       "model_id": "66883e9c6d364eceb5b2dcaf0ed8b1e0",
       "version_minor": 0,
       "version_major": 2
      },
      "text/plain": [
       "  0%|          | 0/9464212 [00:00<?, ?it/s]"
      ]
     },
     "metadata": {}
    },
    {
     "output_type": "stream",
     "name": "stdout",
     "text": [
      "Extracting /root/data/omniglot-py/images_background.zip to /root/data/omniglot-py\n",
      "Downloading https://raw.githubusercontent.com/brendenlake/omniglot/master/python/images_evaluation.zip to /root/data/omniglot-py/images_evaluation.zip\n"
     ]
    },
    {
     "output_type": "display_data",
     "data": {
      "application/vnd.jupyter.widget-view+json": {
       "model_id": "20008284fd0a40d299b4c9360969bf81",
       "version_minor": 0,
       "version_major": 2
      },
      "text/plain": [
       "  0%|          | 0/6462886 [00:00<?, ?it/s]"
      ]
     },
     "metadata": {}
    },
    {
     "output_type": "stream",
     "name": "stdout",
     "text": [
      "Extracting /root/data/omniglot-py/images_evaluation.zip to /root/data/omniglot-py\n",
      "schedule training\n"
     ]
    }
   ],
   "source": [
    "print(\"get tasks\")\n",
    "task_sets = l2l.vision.benchmarks.get_tasksets(\n",
    "    dataset,\n",
    "    train_samples=train_sample_size,\n",
    "    train_ways=n_test_labels,\n",
    "    test_samples=2 * n_shots,\n",
    "    test_ways=n_test_labels,\n",
    "    root='~/data')\n",
    "\n",
    "print(\"schedule training\")\n",
    "train_schedule = RandomSchedule(task_sets.train)\n",
    "#train_schedule = PredictionSimilaritySchedule(task_sets.train, shots=n_shots, ways=n_test_labels, similar_first=True)\n",
    "#train_schedule = BatchLossSchedule(task_sets.train, shots=n_shots, ways=n_test_labels, hardest_first=True)\n"
   ]
  },
  {
   "cell_type": "code",
   "execution_count": 6,
   "metadata": {
    "colab": {
     "base_uri": "https://localhost:8080/"
    },
    "id": "TOQqOFubl2ek",
    "outputId": "a391c9cd-72d4-479e-cbc5-e7ead0eb6f13"
   },
   "outputs": [
    {
     "output_type": "stream",
     "name": "stdout",
     "text": [
      "load model (dataset is omniglot)\n",
      "OmniglotCNN(\n",
      "  (base): ConvBase(\n",
      "    (0): ConvBlock(\n",
      "      (normalize): BatchNorm2d(64, eps=1e-05, momentum=0.1, affine=True, track_running_stats=True)\n",
      "      (relu): ReLU()\n",
      "      (conv): Conv2d(1, 64, kernel_size=(3, 3), stride=(2, 2), padding=(1, 1))\n",
      "    )\n",
      "    (1): ConvBlock(\n",
      "      (normalize): BatchNorm2d(64, eps=1e-05, momentum=0.1, affine=True, track_running_stats=True)\n",
      "      (relu): ReLU()\n",
      "      (conv): Conv2d(64, 64, kernel_size=(3, 3), stride=(2, 2), padding=(1, 1))\n",
      "    )\n",
      "    (2): ConvBlock(\n",
      "      (normalize): BatchNorm2d(64, eps=1e-05, momentum=0.1, affine=True, track_running_stats=True)\n",
      "      (relu): ReLU()\n",
      "      (conv): Conv2d(64, 64, kernel_size=(3, 3), stride=(2, 2), padding=(1, 1))\n",
      "    )\n",
      "    (3): ConvBlock(\n",
      "      (normalize): BatchNorm2d(64, eps=1e-05, momentum=0.1, affine=True, track_running_stats=True)\n",
      "      (relu): ReLU()\n",
      "      (conv): Conv2d(64, 64, kernel_size=(3, 3), stride=(2, 2), padding=(1, 1))\n",
      "    )\n",
      "  )\n",
      "  (features): Sequential(\n",
      "    (0): Lambda()\n",
      "    (1): ConvBase(\n",
      "      (0): ConvBlock(\n",
      "        (normalize): BatchNorm2d(64, eps=1e-05, momentum=0.1, affine=True, track_running_stats=True)\n",
      "        (relu): ReLU()\n",
      "        (conv): Conv2d(1, 64, kernel_size=(3, 3), stride=(2, 2), padding=(1, 1))\n",
      "      )\n",
      "      (1): ConvBlock(\n",
      "        (normalize): BatchNorm2d(64, eps=1e-05, momentum=0.1, affine=True, track_running_stats=True)\n",
      "        (relu): ReLU()\n",
      "        (conv): Conv2d(64, 64, kernel_size=(3, 3), stride=(2, 2), padding=(1, 1))\n",
      "      )\n",
      "      (2): ConvBlock(\n",
      "        (normalize): BatchNorm2d(64, eps=1e-05, momentum=0.1, affine=True, track_running_stats=True)\n",
      "        (relu): ReLU()\n",
      "        (conv): Conv2d(64, 64, kernel_size=(3, 3), stride=(2, 2), padding=(1, 1))\n",
      "      )\n",
      "      (3): ConvBlock(\n",
      "        (normalize): BatchNorm2d(64, eps=1e-05, momentum=0.1, affine=True, track_running_stats=True)\n",
      "        (relu): ReLU()\n",
      "        (conv): Conv2d(64, 64, kernel_size=(3, 3), stride=(2, 2), padding=(1, 1))\n",
      "      )\n",
      "    )\n",
      "    (2): Lambda()\n",
      "    (3): Flatten()\n",
      "  )\n",
      "  (classifier): Linear(in_features=64, out_features=5, bias=True)\n",
      ")\n",
      "create meta learner\n"
     ]
    }
   ],
   "source": [
    "print(f\"load model (dataset is {dataset})\")\n",
    "if dataset == \"mini-imagenet\":\n",
    "    model = l2l.vision.models.MiniImagenetCNN(n_test_labels)\n",
    "else:\n",
    "    model = l2l.vision.models.OmniglotCNN(n_test_labels)\n",
    "\n",
    "print(model)\n",
    "model.to(device)\n",
    "\n",
    "f_loss = nn.CrossEntropyLoss(reduction='mean')\n",
    "\n",
    "print(f\"create meta learner\")\n",
    "meta_learner = MetaLearner(\n",
    "    per_task_lr,\n",
    "    meta_lr,\n",
    "    train_adapt_steps,\n",
    "    test_adapt_steps,\n",
    "    meta_batch_size,\n",
    "    model,\n",
    "    f_loss,\n",
    "    device)\n"
   ]
  },
  {
   "cell_type": "code",
   "execution_count": 7,
   "metadata": {
    "colab": {
     "base_uri": "https://localhost:8080/"
    },
    "id": "XwXBluWnl-Bf",
    "outputId": "66499233-cda8-447f-fbca-21f12febddfd"
   },
   "outputs": [
    {
     "output_type": "stream",
     "name": "stdout",
     "text": [
      "meta learner train\n"
     ]
    },
    {
     "output_type": "stream",
     "name": "stderr",
     "text": [
      "/usr/local/lib/python3.7/dist-packages/torch/_tensor.py:1013: UserWarning: The .grad attribute of a Tensor that is not a leaf Tensor is being accessed. Its .grad attribute won't be populated during autograd.backward(). If you indeed want the .grad field to be populated for a non-leaf Tensor, use .retain_grad() on the non-leaf Tensor. If you access the non-leaf Tensor by mistake, make sure you access the leaf Tensor instead. See github.com/pytorch/pytorch/pull/30531 for more informations. (Triggered internally at  aten/src/ATen/core/TensorBody.h:417.)\n",
      "  return self._grad\n"
     ]
    },
    {
     "output_type": "stream",
     "name": "stdout",
     "text": [
      "epoch=1/100, loss=0.717, acc=0.770\n",
      "epoch=2/100, loss=0.733, acc=0.757\n",
      "epoch=3/100, loss=0.665, acc=0.780\n",
      "epoch=4/100, loss=0.725, acc=0.760\n",
      "epoch=5/100, loss=0.767, acc=0.740\n",
      "epoch=6/100, loss=0.625, acc=0.794\n",
      "epoch=7/100, loss=0.660, acc=0.770\n",
      "epoch=8/100, loss=0.489, acc=0.851\n",
      "epoch=9/100, loss=0.517, acc=0.838\n",
      "epoch=10/100, loss=0.554, acc=0.828\n",
      "epoch=11/100, loss=0.615, acc=0.804\n",
      "epoch=12/100, loss=0.461, acc=0.848\n",
      "epoch=13/100, loss=0.384, acc=0.889\n",
      "epoch=14/100, loss=0.525, acc=0.821\n",
      "epoch=15/100, loss=0.546, acc=0.821\n",
      "epoch=16/100, loss=0.475, acc=0.838\n",
      "epoch=17/100, loss=0.497, acc=0.807\n",
      "epoch=18/100, loss=0.533, acc=0.841\n",
      "epoch=19/100, loss=0.578, acc=0.801\n",
      "epoch=20/100, loss=0.449, acc=0.868\n",
      "epoch=21/100, loss=0.379, acc=0.899\n",
      "epoch=22/100, loss=0.490, acc=0.858\n",
      "epoch=23/100, loss=0.428, acc=0.878\n",
      "epoch=24/100, loss=0.414, acc=0.861\n",
      "epoch=25/100, loss=0.524, acc=0.828\n",
      "epoch=26/100, loss=0.461, acc=0.861\n",
      "epoch=27/100, loss=0.443, acc=0.872\n",
      "epoch=28/100, loss=0.482, acc=0.855\n",
      "epoch=29/100, loss=0.482, acc=0.851\n",
      "epoch=30/100, loss=0.507, acc=0.807\n",
      "epoch=31/100, loss=0.449, acc=0.851\n",
      "epoch=32/100, loss=0.509, acc=0.811\n",
      "epoch=33/100, loss=0.452, acc=0.865\n",
      "epoch=34/100, loss=0.422, acc=0.875\n",
      "epoch=35/100, loss=0.399, acc=0.882\n",
      "epoch=36/100, loss=0.411, acc=0.889\n",
      "epoch=37/100, loss=0.427, acc=0.872\n",
      "epoch=38/100, loss=0.376, acc=0.878\n",
      "epoch=39/100, loss=0.465, acc=0.858\n",
      "epoch=40/100, loss=0.356, acc=0.902\n",
      "epoch=41/100, loss=0.530, acc=0.821\n",
      "epoch=42/100, loss=0.353, acc=0.889\n",
      "epoch=43/100, loss=0.507, acc=0.831\n",
      "epoch=44/100, loss=0.415, acc=0.878\n",
      "epoch=45/100, loss=0.325, acc=0.899\n",
      "epoch=46/100, loss=0.307, acc=0.916\n",
      "epoch=47/100, loss=0.512, acc=0.848\n",
      "epoch=48/100, loss=0.378, acc=0.865\n",
      "epoch=49/100, loss=0.373, acc=0.868\n",
      "epoch=50/100, loss=0.374, acc=0.882\n",
      "epoch=51/100, loss=0.282, acc=0.929\n",
      "epoch=52/100, loss=0.373, acc=0.899\n",
      "epoch=53/100, loss=0.395, acc=0.872\n",
      "epoch=54/100, loss=0.268, acc=0.932\n",
      "epoch=55/100, loss=0.309, acc=0.922\n",
      "epoch=56/100, loss=0.324, acc=0.902\n",
      "epoch=57/100, loss=0.272, acc=0.919\n",
      "epoch=58/100, loss=0.380, acc=0.878\n",
      "epoch=59/100, loss=0.375, acc=0.885\n",
      "epoch=60/100, loss=0.312, acc=0.909\n",
      "epoch=61/100, loss=0.390, acc=0.882\n",
      "epoch=62/100, loss=0.275, acc=0.936\n",
      "epoch=63/100, loss=0.248, acc=0.929\n",
      "epoch=64/100, loss=0.329, acc=0.899\n",
      "epoch=65/100, loss=0.391, acc=0.865\n",
      "epoch=66/100, loss=0.248, acc=0.912\n",
      "epoch=67/100, loss=0.315, acc=0.905\n",
      "epoch=68/100, loss=0.369, acc=0.889\n",
      "epoch=69/100, loss=0.332, acc=0.899\n",
      "epoch=70/100, loss=0.275, acc=0.932\n",
      "epoch=71/100, loss=0.346, acc=0.889\n",
      "epoch=72/100, loss=0.437, acc=0.868\n",
      "epoch=73/100, loss=0.302, acc=0.902\n",
      "epoch=74/100, loss=0.252, acc=0.926\n",
      "epoch=75/100, loss=0.255, acc=0.919\n",
      "epoch=76/100, loss=0.388, acc=0.882\n",
      "epoch=77/100, loss=0.300, acc=0.916\n",
      "epoch=78/100, loss=0.183, acc=0.973\n",
      "epoch=79/100, loss=0.459, acc=0.814\n",
      "epoch=80/100, loss=0.272, acc=0.905\n",
      "epoch=81/100, loss=0.323, acc=0.909\n",
      "epoch=82/100, loss=0.343, acc=0.875\n",
      "epoch=83/100, loss=0.232, acc=0.929\n",
      "epoch=84/100, loss=0.241, acc=0.926\n",
      "epoch=85/100, loss=0.267, acc=0.922\n",
      "epoch=86/100, loss=0.285, acc=0.899\n",
      "epoch=87/100, loss=0.289, acc=0.919\n",
      "epoch=88/100, loss=0.371, acc=0.878\n",
      "epoch=89/100, loss=0.198, acc=0.956\n",
      "epoch=90/100, loss=0.346, acc=0.902\n",
      "epoch=91/100, loss=0.270, acc=0.929\n",
      "epoch=92/100, loss=0.238, acc=0.936\n",
      "epoch=93/100, loss=0.213, acc=0.943\n",
      "epoch=94/100, loss=0.357, acc=0.878\n",
      "epoch=95/100, loss=0.225, acc=0.926\n",
      "epoch=96/100, loss=0.247, acc=0.916\n",
      "epoch=97/100, loss=0.236, acc=0.936\n",
      "epoch=98/100, loss=0.232, acc=0.932\n",
      "epoch=99/100, loss=0.225, acc=0.946\n",
      "epoch=100/100, loss=0.270, acc=0.926\n"
     ]
    }
   ],
   "source": [
    "print(f\"meta learner train\")\n",
    "train_losses, train_accs = meta_learner.meta_train(n_epochs, train_schedule)\n"
   ]
  },
  {
   "cell_type": "code",
   "execution_count": 9,
   "metadata": {
    "id": "7HCyFG5mEOiz",
    "outputId": "ede486b8-3610-4e34-a9f3-9ec15d9dfcd0",
    "colab": {
     "base_uri": "https://localhost:8080/",
     "height": 298
    }
   },
   "outputs": [
    {
     "output_type": "execute_result",
     "data": {
      "text/plain": [
       "[<matplotlib.lines.Line2D at 0x7f888a0c86d0>]"
      ]
     },
     "metadata": {},
     "execution_count": 9
    },
    {
     "output_type": "display_data",
     "data": {
      "image/png": "[encoded data removed]",
      "text/plain": [
       "<Figure size 432x288 with 2 Axes>"
      ]
     },
     "metadata": {
      "needs_background": "light"
     }
    }
   ],
   "source": [
    "_, (ax1, ax2) = plt.subplots(1, 2)\n",
    "ax1.set_title(\"meta train validation losses\") \n",
    "ax1.plot(train_losses)\n",
    "ax2.set_title(\"meta train validation accuracies\") \n",
    "ax2.plot(train_accs)"
   ]
  },
  {
   "cell_type": "code",
   "execution_count": 11,
   "metadata": {
    "colab": {
     "base_uri": "https://localhost:8080/"
    },
    "id": "EhS4Cc_YmFez",
    "outputId": "7790f05b-60c5-4d3b-ee7a-9c028d8c24a2"
   },
   "outputs": [
    {
     "output_type": "stream",
     "name": "stdout",
     "text": [
      "meta learner test\n",
      "Meta Test Error 0.36584093514829874\n",
      "Meta Test Accuracy 0.9000000059604645\n"
     ]
    }
   ],
   "source": [
    "print(f\"meta learner test\")\n",
    "seed = 1\n",
    "random.seed(seed)\n",
    "np.random.seed(seed)\n",
    "torch.manual_seed(seed)\n",
    "if torch.cuda.is_available():\n",
    "  torch.cuda.manual_seed(seed)\n",
    "\n",
    "meta_test_loss, meta_test_acc = meta_learner.meta_test(task_sets.test)\n"
   ]
  },
  {
   "cell_type": "code",
   "execution_count": 12,
   "metadata": {
    "id": "MkmoDuaIE7Tj"
   },
   "outputs": [],
   "source": [
    "checkpoint = {'maml_hyper_params': args,\n",
    "              'state_dict': model.state_dict()}\n",
    "filename = f'meta_test_accuracy_{meta_test_acc:.3f}_checkpoint.pth'\n",
    "torch.save(checkpoint, filename)"
   ]
  },
  {
   "cell_type": "code",
   "execution_count": null,
   "metadata": {
    "id": "HYSlei_mEOi2"
   },
   "outputs": [],
   "source": [
    ""
   ]
  }
 ],
 "metadata": {
  "colab": {
   "name": "meta_learner_runner.ipynb",
   "provenance": []
  },
  "kernelspec": {
   "display_name": "Python 3 (ipykernel)",
   "language": "python",
   "name": "python3"
  },
  "language_info": {
   "codemirror_mode": {
    "name": "ipython",
    "version": 3
   },
   "file_extension": ".py",
   "mimetype": "text/x-python",
   "name": "python",
   "nbconvert_exporter": "python",
   "pygments_lexer": "ipython3",
   "version": "3.8.2"
  },
  "accelerator": "GPU",
  "widgets": {
   "application/vnd.jupyter.widget-state+json": {
    "66883e9c6d364eceb5b2dcaf0ed8b1e0": {
     "model_module": "@jupyter-widgets/controls",
     "model_name": "HBoxModel",
     "model_module_version": "1.5.0",
     "state": {
      "_view_name": "HBoxView",
      "_dom_classes": [],
      "_model_name": "HBoxModel",
      "_view_module": "@jupyter-widgets/controls",
      "_model_module_version": "1.5.0",
      "_view_count": null,
      "_view_module_version": "1.5.0",
      "box_style": "",
      "layout": "IPY_MODEL_737c4e52d79342928feef2fb00536453",
      "_model_module": "@jupyter-widgets/controls",
      "children": [
       "IPY_MODEL_e0b83a1809bf49d09356e7847106b92f",
       "IPY_MODEL_be444fcaa779413e9914e82a0f69ddeb",
       "IPY_MODEL_df45c5aed8ba4f7aacace18295391751"
      ]
     }
    },
    "737c4e52d79342928feef2fb00536453": {
     "model_module": "@jupyter-widgets/base",
     "model_name": "LayoutModel",
     "model_module_version": "1.2.0",
     "state": {
      "_view_name": "LayoutView",
      "grid_template_rows": null,
      "right": null,
      "justify_content": null,
      "_view_module": "@jupyter-widgets/base",
      "overflow": null,
      "_model_module_version": "1.2.0",
      "_view_count": null,
      "flex_flow": null,
      "width": null,
      "min_width": null,
      "border": null,
      "align_items": null,
      "bottom": null,
      "_model_module": "@jupyter-widgets/base",
      "top": null,
      "grid_column": null,
      "overflow_y": null,
      "overflow_x": null,
      "grid_auto_flow": null,
      "grid_area": null,
      "grid_template_columns": null,
      "flex": null,
      "_model_name": "LayoutModel",
      "justify_items": null,
      "grid_row": null,
      "max_height": null,
      "align_content": null,
      "visibility": null,
      "align_self": null,
      "height": null,
      "min_height": null,
      "padding": null,
      "grid_auto_rows": null,
      "grid_gap": null,
      "max_width": null,
      "order": null,
      "_view_module_version": "1.2.0",
      "grid_template_areas": null,
      "object_position": null,
      "object_fit": null,
      "grid_auto_columns": null,
      "margin": null,
      "display": null,
      "left": null
     }
    },
    "e0b83a1809bf49d09356e7847106b92f": {
     "model_module": "@jupyter-widgets/controls",
     "model_name": "HTMLModel",
     "model_module_version": "1.5.0",
     "state": {
      "_view_name": "HTMLView",
      "style": "IPY_MODEL_817f7e3fdde745ba85cecd03f998af65",
      "_dom_classes": [],
      "description": "",
      "_model_name": "HTMLModel",
      "placeholder": "​",
      "_view_module": "@jupyter-widgets/controls",
      "_model_module_version": "1.5.0",
      "value": "",
      "_view_count": null,
      "_view_module_version": "1.5.0",
      "description_tooltip": null,
      "_model_module": "@jupyter-widgets/controls",
      "layout": "IPY_MODEL_e3388aefb6b340dea384ac9bce3d0511"
     }
    },
    "be444fcaa779413e9914e82a0f69ddeb": {
     "model_module": "@jupyter-widgets/controls",
     "model_name": "FloatProgressModel",
     "model_module_version": "1.5.0",
     "state": {
      "_view_name": "ProgressView",
      "style": "IPY_MODEL_31027467133749cdaa7a0b85e881554e",
      "_dom_classes": [],
      "description": "",
      "_model_name": "FloatProgressModel",
      "bar_style": "success",
      "max": 9464212,
      "_view_module": "@jupyter-widgets/controls",
      "_model_module_version": "1.5.0",
      "value": 9464212,
      "_view_count": null,
      "_view_module_version": "1.5.0",
      "orientation": "horizontal",
      "min": 0,
      "description_tooltip": null,
      "_model_module": "@jupyter-widgets/controls",
      "layout": "IPY_MODEL_52ad56cef5bd4db08f06c1f689256904"
     }
    },
    "df45c5aed8ba4f7aacace18295391751": {
     "model_module": "@jupyter-widgets/controls",
     "model_name": "HTMLModel",
     "model_module_version": "1.5.0",
     "state": {
      "_view_name": "HTMLView",
      "style": "IPY_MODEL_366ed461b6004f8b944b0cf246ba9622",
      "_dom_classes": [],
      "description": "",
      "_model_name": "HTMLModel",
      "placeholder": "​",
      "_view_module": "@jupyter-widgets/controls",
      "_model_module_version": "1.5.0",
      "value": " 9464832/? [00:00&lt;00:00, 12568641.91it/s]",
      "_view_count": null,
      "_view_module_version": "1.5.0",
      "description_tooltip": null,
      "_model_module": "@jupyter-widgets/controls",
      "layout": "IPY_MODEL_9682ce6fa2da4448bda87138f0e8e215"
     }
    },
    "817f7e3fdde745ba85cecd03f998af65": {
     "model_module": "@jupyter-widgets/controls",
     "model_name": "DescriptionStyleModel",
     "model_module_version": "1.5.0",
     "state": {
      "_view_name": "StyleView",
      "_model_name": "DescriptionStyleModel",
      "description_width": "",
      "_view_module": "@jupyter-widgets/base",
      "_model_module_version": "1.5.0",
      "_view_count": null,
      "_view_module_version": "1.2.0",
      "_model_module": "@jupyter-widgets/controls"
     }
    },
    "e3388aefb6b340dea384ac9bce3d0511": {
     "model_module": "@jupyter-widgets/base",
     "model_name": "LayoutModel",
     "model_module_version": "1.2.0",
     "state": {
      "_view_name": "LayoutView",
      "grid_template_rows": null,
      "right": null,
      "justify_content": null,
      "_view_module": "@jupyter-widgets/base",
      "overflow": null,
      "_model_module_version": "1.2.0",
      "_view_count": null,
      "flex_flow": null,
      "width": null,
      "min_width": null,
      "border": null,
      "align_items": null,
      "bottom": null,
      "_model_module": "@jupyter-widgets/base",
      "top": null,
      "grid_column": null,
      "overflow_y": null,
      "overflow_x": null,
      "grid_auto_flow": null,
      "grid_area": null,
      "grid_template_columns": null,
      "flex": null,
      "_model_name": "LayoutModel",
      "justify_items": null,
      "grid_row": null,
      "max_height": null,
      "align_content": null,
      "visibility": null,
      "align_self": null,
      "height": null,
      "min_height": null,
      "padding": null,
      "grid_auto_rows": null,
      "grid_gap": null,
      "max_width": null,
      "order": null,
      "_view_module_version": "1.2.0",
      "grid_template_areas": null,
      "object_position": null,
      "object_fit": null,
      "grid_auto_columns": null,
      "margin": null,
      "display": null,
      "left": null
     }
    },
    "31027467133749cdaa7a0b85e881554e": {
     "model_module": "@jupyter-widgets/controls",
     "model_name": "ProgressStyleModel",
     "model_module_version": "1.5.0",
     "state": {
      "_view_name": "StyleView",
      "_model_name": "ProgressStyleModel",
      "description_width": "",
      "_view_module": "@jupyter-widgets/base",
      "_model_module_version": "1.5.0",
      "_view_count": null,
      "_view_module_version": "1.2.0",
      "bar_color": null,
      "_model_module": "@jupyter-widgets/controls"
     }
    },
    "52ad56cef5bd4db08f06c1f689256904": {
     "model_module": "@jupyter-widgets/base",
     "model_name": "LayoutModel",
     "model_module_version": "1.2.0",
     "state": {
      "_view_name": "LayoutView",
      "grid_template_rows": null,
      "right": null,
      "justify_content": null,
      "_view_module": "@jupyter-widgets/base",
      "overflow": null,
      "_model_module_version": "1.2.0",
      "_view_count": null,
      "flex_flow": null,
      "width": null,
      "min_width": null,
      "border": null,
      "align_items": null,
      "bottom": null,
      "_model_module": "@jupyter-widgets/base",
      "top": null,
      "grid_column": null,
      "overflow_y": null,
      "overflow_x": null,
      "grid_auto_flow": null,
      "grid_area": null,
      "grid_template_columns": null,
      "flex": null,
      "_model_name": "LayoutModel",
      "justify_items": null,
      "grid_row": null,
      "max_height": null,
      "align_content": null,
      "visibility": null,
      "align_self": null,
      "height": null,
      "min_height": null,
      "padding": null,
      "grid_auto_rows": null,
      "grid_gap": null,
      "max_width": null,
      "order": null,
      "_view_module_version": "1.2.0",
      "grid_template_areas": null,
      "object_position": null,
      "object_fit": null,
      "grid_auto_columns": null,
      "margin": null,
      "display": null,
      "left": null
     }
    },
    "366ed461b6004f8b944b0cf246ba9622": {
     "model_module": "@jupyter-widgets/controls",
     "model_name": "DescriptionStyleModel",
     "model_module_version": "1.5.0",
     "state": {
      "_view_name": "StyleView",
      "_model_name": "DescriptionStyleModel",
      "description_width": "",
      "_view_module": "@jupyter-widgets/base",
      "_model_module_version": "1.5.0",
      "_view_count": null,
      "_view_module_version": "1.2.0",
      "_model_module": "@jupyter-widgets/controls"
     }
    },
    "9682ce6fa2da4448bda87138f0e8e215": {
     "model_module": "@jupyter-widgets/base",
     "model_name": "LayoutModel",
     "model_module_version": "1.2.0",
     "state": {
      "_view_name": "LayoutView",
      "grid_template_rows": null,
      "right": null,
      "justify_content": null,
      "_view_module": "@jupyter-widgets/base",
      "overflow": null,
      "_model_module_version": "1.2.0",
      "_view_count": null,
      "flex_flow": null,
      "width": null,
      "min_width": null,
      "border": null,
      "align_items": null,
      "bottom": null,
      "_model_module": "@jupyter-widgets/base",
      "top": null,
      "grid_column": null,
      "overflow_y": null,
      "overflow_x": null,
      "grid_auto_flow": null,
      "grid_area": null,
      "grid_template_columns": null,
      "flex": null,
      "_model_name": "LayoutModel",
      "justify_items": null,
      "grid_row": null,
      "max_height": null,
      "align_content": null,
      "visibility": null,
      "align_self": null,
      "height": null,
      "min_height": null,
      "padding": null,
      "grid_auto_rows": null,
      "grid_gap": null,
      "max_width": null,
      "order": null,
      "_view_module_version": "1.2.0",
      "grid_template_areas": null,
      "object_position": null,
      "object_fit": null,
      "grid_auto_columns": null,
      "margin": null,
      "display": null,
      "left": null
     }
    },
    "20008284fd0a40d299b4c9360969bf81": {
     "model_module": "@jupyter-widgets/controls",
     "model_name": "HBoxModel",
     "model_module_version": "1.5.0",
     "state": {
      "_view_name": "HBoxView",
      "_dom_classes": [],
      "_model_name": "HBoxModel",
      "_view_module": "@jupyter-widgets/controls",
      "_model_module_version": "1.5.0",
      "_view_count": null,
      "_view_module_version": "1.5.0",
      "box_style": "",
      "layout": "IPY_MODEL_b626520eb5dd489d97ce5d6a786dbff4",
      "_model_module": "@jupyter-widgets/controls",
      "children": [
       "IPY_MODEL_c85d437b49d84771a1e59f3fdc651164",
       "IPY_MODEL_449798d7cae34b1999f649c750327b44",
       "IPY_MODEL_c45f251fff564e019faac7c02d46ec41"
      ]
     }
    },
    "b626520eb5dd489d97ce5d6a786dbff4": {
     "model_module": "@jupyter-widgets/base",
     "model_name": "LayoutModel",
     "model_module_version": "1.2.0",
     "state": {
      "_view_name": "LayoutView",
      "grid_template_rows": null,
      "right": null,
      "justify_content": null,
      "_view_module": "@jupyter-widgets/base",
      "overflow": null,
      "_model_module_version": "1.2.0",
      "_view_count": null,
      "flex_flow": null,
      "width": null,
      "min_width": null,
      "border": null,
      "align_items": null,
      "bottom": null,
      "_model_module": "@jupyter-widgets/base",
      "top": null,
      "grid_column": null,
      "overflow_y": null,
      "overflow_x": null,
      "grid_auto_flow": null,
      "grid_area": null,
      "grid_template_columns": null,
      "flex": null,
      "_model_name": "LayoutModel",
      "justify_items": null,
      "grid_row": null,
      "max_height": null,
      "align_content": null,
      "visibility": null,
      "align_self": null,
      "height": null,
      "min_height": null,
      "padding": null,
      "grid_auto_rows": null,
      "grid_gap": null,
      "max_width": null,
      "order": null,
      "_view_module_version": "1.2.0",
      "grid_template_areas": null,
      "object_position": null,
      "object_fit": null,
      "grid_auto_columns": null,
      "margin": null,
      "display": null,
      "left": null
     }
    },
    "c85d437b49d84771a1e59f3fdc651164": {
     "model_module": "@jupyter-widgets/controls",
     "model_name": "HTMLModel",
     "model_module_version": "1.5.0",
     "state": {
      "_view_name": "HTMLView",
      "style": "IPY_MODEL_f0101cf890104bd7b67150462ea2d6ac",
      "_dom_classes": [],
      "description": "",
      "_model_name": "HTMLModel",
      "placeholder": "​",
      "_view_module": "@jupyter-widgets/controls",
      "_model_module_version": "1.5.0",
      "value": "",
      "_view_count": null,
      "_view_module_version": "1.5.0",
      "description_tooltip": null,
      "_model_module": "@jupyter-widgets/controls",
      "layout": "IPY_MODEL_5f61b307e7494158984c78207c782238"
     }
    },
    "449798d7cae34b1999f649c750327b44": {
     "model_module": "@jupyter-widgets/controls",
     "model_name": "FloatProgressModel",
     "model_module_version": "1.5.0",
     "state": {
      "_view_name": "ProgressView",
      "style": "IPY_MODEL_b43db59052dc4a228c4517bc6497af8c",
      "_dom_classes": [],
      "description": "",
      "_model_name": "FloatProgressModel",
      "bar_style": "success",
      "max": 6462886,
      "_view_module": "@jupyter-widgets/controls",
      "_model_module_version": "1.5.0",
      "value": 6462886,
      "_view_count": null,
      "_view_module_version": "1.5.0",
      "orientation": "horizontal",
      "min": 0,
      "description_tooltip": null,
      "_model_module": "@jupyter-widgets/controls",
      "layout": "IPY_MODEL_d3cda16d3f4d437984cea1cd36ad0c93"
     }
    },
    "c45f251fff564e019faac7c02d46ec41": {
     "model_module": "@jupyter-widgets/controls",
     "model_name": "HTMLModel",
     "model_module_version": "1.5.0",
     "state": {
      "_view_name": "HTMLView",
      "style": "IPY_MODEL_293b8d0403fd42f989795d0ff78c4c97",
      "_dom_classes": [],
      "description": "",
      "_model_name": "HTMLModel",
      "placeholder": "​",
      "_view_module": "@jupyter-widgets/controls",
      "_model_module_version": "1.5.0",
      "value": " 6463488/? [00:00&lt;00:00, 16709584.48it/s]",
      "_view_count": null,
      "_view_module_version": "1.5.0",
      "description_tooltip": null,
      "_model_module": "@jupyter-widgets/controls",
      "layout": "IPY_MODEL_a1545908ceba4f0c8e3e6f0de2b793a7"
     }
    },
    "f0101cf890104bd7b67150462ea2d6ac": {
     "model_module": "@jupyter-widgets/controls",
     "model_name": "DescriptionStyleModel",
     "model_module_version": "1.5.0",
     "state": {
      "_view_name": "StyleView",
      "_model_name": "DescriptionStyleModel",
      "description_width": "",
      "_view_module": "@jupyter-widgets/base",
      "_model_module_version": "1.5.0",
      "_view_count": null,
      "_view_module_version": "1.2.0",
      "_model_module": "@jupyter-widgets/controls"
     }
    },
    "5f61b307e7494158984c78207c782238": {
     "model_module": "@jupyter-widgets/base",
     "model_name": "LayoutModel",
     "model_module_version": "1.2.0",
     "state": {
      "_view_name": "LayoutView",
      "grid_template_rows": null,
      "right": null,
      "justify_content": null,
      "_view_module": "@jupyter-widgets/base",
      "overflow": null,
      "_model_module_version": "1.2.0",
      "_view_count": null,
      "flex_flow": null,
      "width": null,
      "min_width": null,
      "border": null,
      "align_items": null,
      "bottom": null,
      "_model_module": "@jupyter-widgets/base",
      "top": null,
      "grid_column": null,
      "overflow_y": null,
      "overflow_x": null,
      "grid_auto_flow": null,
      "grid_area": null,
      "grid_template_columns": null,
      "flex": null,
      "_model_name": "LayoutModel",
      "justify_items": null,
      "grid_row": null,
      "max_height": null,
      "align_content": null,
      "visibility": null,
      "align_self": null,
      "height": null,
      "min_height": null,
      "padding": null,
      "grid_auto_rows": null,
      "grid_gap": null,
      "max_width": null,
      "order": null,
      "_view_module_version": "1.2.0",
      "grid_template_areas": null,
      "object_position": null,
      "object_fit": null,
      "grid_auto_columns": null,
      "margin": null,
      "display": null,
      "left": null
     }
    },
    "b43db59052dc4a228c4517bc6497af8c": {
     "model_module": "@jupyter-widgets/controls",
     "model_name": "ProgressStyleModel",
     "model_module_version": "1.5.0",
     "state": {
      "_view_name": "StyleView",
      "_model_name": "ProgressStyleModel",
      "description_width": "",
      "_view_module": "@jupyter-widgets/base",
      "_model_module_version": "1.5.0",
      "_view_count": null,
      "_view_module_version": "1.2.0",
      "bar_color": null,
      "_model_module": "@jupyter-widgets/controls"
     }
    },
    "d3cda16d3f4d437984cea1cd36ad0c93": {
     "model_module": "@jupyter-widgets/base",
     "model_name": "LayoutModel",
     "model_module_version": "1.2.0",
     "state": {
      "_view_name": "LayoutView",
      "grid_template_rows": null,
      "right": null,
      "justify_content": null,
      "_view_module": "@jupyter-widgets/base",
      "overflow": null,
      "_model_module_version": "1.2.0",
      "_view_count": null,
      "flex_flow": null,
      "width": null,
      "min_width": null,
      "border": null,
      "align_items": null,
      "bottom": null,
      "_model_module": "@jupyter-widgets/base",
      "top": null,
      "grid_column": null,
      "overflow_y": null,
      "overflow_x": null,
      "grid_auto_flow": null,
      "grid_area": null,
      "grid_template_columns": null,
      "flex": null,
      "_model_name": "LayoutModel",
      "justify_items": null,
      "grid_row": null,
      "max_height": null,
      "align_content": null,
      "visibility": null,
      "align_self": null,
      "height": null,
      "min_height": null,
      "padding": null,
      "grid_auto_rows": null,
      "grid_gap": null,
      "max_width": null,
      "order": null,
      "_view_module_version": "1.2.0",
      "grid_template_areas": null,
      "object_position": null,
      "object_fit": null,
      "grid_auto_columns": null,
      "margin": null,
      "display": null,
      "left": null
     }
    },
    "293b8d0403fd42f989795d0ff78c4c97": {
     "model_module": "@jupyter-widgets/controls",
     "model_name": "DescriptionStyleModel",
     "model_module_version": "1.5.0",
     "state": {
      "_view_name": "StyleView",
      "_model_name": "DescriptionStyleModel",
      "description_width": "",
      "_view_module": "@jupyter-widgets/base",
      "_model_module_version": "1.5.0",
      "_view_count": null,
      "_view_module_version": "1.2.0",
      "_model_module": "@jupyter-widgets/controls"
     }
    },
    "a1545908ceba4f0c8e3e6f0de2b793a7": {
     "model_module": "@jupyter-widgets/base",
     "model_name": "LayoutModel",
     "model_module_version": "1.2.0",
     "state": {
      "_view_name": "LayoutView",
      "grid_template_rows": null,
      "right": null,
      "justify_content": null,
      "_view_module": "@jupyter-widgets/base",
      "overflow": null,
      "_model_module_version": "1.2.0",
      "_view_count": null,
      "flex_flow": null,
      "width": null,
      "min_width": null,
      "border": null,
      "align_items": null,
      "bottom": null,
      "_model_module": "@jupyter-widgets/base",
      "top": null,
      "grid_column": null,
      "overflow_y": null,
      "overflow_x": null,
      "grid_auto_flow": null,
      "grid_area": null,
      "grid_template_columns": null,
      "flex": null,
      "_model_name": "LayoutModel",
      "justify_items": null,
      "grid_row": null,
      "max_height": null,
      "align_content": null,
      "visibility": null,
      "align_self": null,
      "height": null,
      "min_height": null,
      "padding": null,
      "grid_auto_rows": null,
      "grid_gap": null,
      "max_width": null,
      "order": null,
      "_view_module_version": "1.2.0",
      "grid_template_areas": null,
      "object_position": null,
      "object_fit": null,
      "grid_auto_columns": null,
      "margin": null,
      "display": null,
      "left": null
     }
    }
   }
  }
 },
 "nbformat": 4,
 "nbformat_minor": 0
}